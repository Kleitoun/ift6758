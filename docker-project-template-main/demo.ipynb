{
 "cells": [
  {
   "cell_type": "code",
   "execution_count": 2,
   "source": [
    "%load_ext autoreload\n",
    "%autoreload 2"
   ],
   "outputs": [
    {
     "output_type": "stream",
     "name": "stdout",
     "text": [
      "The autoreload extension is already loaded. To reload it, use:\n",
      "  %reload_ext autoreload\n"
     ]
    }
   ],
   "metadata": {}
  },
  {
   "cell_type": "code",
   "execution_count": 3,
   "source": [
    "import pandas as pd\n",
    "import numpy as np\n",
    "import requests\n",
    "import json\n",
    "import sys\n",
    "import os\n",
    "import pickle\n",
    "import ipywidgets as widgets\n",
    "from IPython.display import display\n",
    "import matplotlib.pyplot as plt"
   ],
   "outputs": [],
   "metadata": {}
  },
  {
   "cell_type": "code",
   "execution_count": 23,
   "source": [
    "!pip install -e ift6758"
   ],
   "outputs": [
    {
     "output_type": "stream",
     "name": "stdout",
     "text": [
      "Obtaining file:///Users/krishnamaneeshad/milestone_3/ift6758/docker-project-template-main/ift6758\n",
      "  Preparing metadata (setup.py) ... \u001b[?25ldone\n",
      "\u001b[?25hInstalling collected packages: ift6758\n",
      "  Attempting uninstall: ift6758\n",
      "    Found existing installation: ift6758 0.1.0\n",
      "    Uninstalling ift6758-0.1.0:\n",
      "      Successfully uninstalled ift6758-0.1.0\n",
      "  Running setup.py develop for ift6758\n",
      "Successfully installed ift6758-0.1.0\n"
     ]
    }
   ],
   "metadata": {}
  },
  {
   "cell_type": "code",
   "execution_count": 24,
   "source": [
    "\n",
    "from ift6758.client.game_client import GameClient as game_client\n",
    "from ift6758.client.serving_client import ServingClient as serving_client"
   ],
   "outputs": [],
   "metadata": {}
  },
  {
   "cell_type": "code",
   "execution_count": 25,
   "source": [
    "model_names = ['lrd', 'lrda', 'lda', 'xgboost', 'xgboost-tuning']\n",
    "workspace_names = ['kleitoun', '']\n",
    "version_list = ['1.0.0','']"
   ],
   "outputs": [],
   "metadata": {}
  },
  {
   "cell_type": "code",
   "execution_count": 31,
   "source": [
    "sc = serving_client(ip = \"serving\", port = \"5000\")"
   ],
   "outputs": [],
   "metadata": {}
  },
  {
   "cell_type": "code",
   "execution_count": null,
   "source": [
    "sc.logs()"
   ],
   "outputs": [],
   "metadata": {}
  },
  {
   "cell_type": "code",
   "execution_count": 27,
   "source": [
    "########################################################## DOWNLOAD MODEL FUNCTIONALITY ######################################\n",
    "\n",
    "workspace = widgets.Dropdown(\n",
    "    description='Workspace',\n",
    "    value=workspace_names[0],\n",
    "    options=workspace_names\n",
    "\n",
    ")\n",
    "model_name = widgets.Dropdown(\n",
    "    description='Model Name',\n",
    "    value=model_names[0],\n",
    "    options=model_names\n",
    "\n",
    ")\n",
    "version = widgets.Dropdown(\n",
    "    description='Model Version',\n",
    "    value=version_list[0],\n",
    "    options=version_list\n",
    "\n",
    ")\n",
    "\n",
    "download_button = widgets.Button(description=\"Download Model\")\n",
    "\n",
    "output = widgets.Output()\n",
    "\n",
    "\n",
    "@output.capture()\n",
    "def on_button_clicked(b):\n",
    "    sc.download_registry_model(workspace = workspace.value, model = model_name.value, version = str(version.value))\n",
    "    with output:\n",
    "        print(\"Downloaded\")\n",
    "    \n",
    "    \n",
    "container2 = widgets.HBox(children=[workspace,model_name,version])\n",
    "display(container2)\n",
    "display(download_button)\n",
    "download_button.on_click(on_button_clicked)\n",
    "display(output)\n",
    "\n",
    "########################################################## PING GAME FUNCTIONALITY ######################################\n",
    "\n",
    "\n",
    "game_id_input = widgets.Text(description='Game ID')\n",
    "display(game_id_input)\n",
    "button = widgets.Button(description=\"Ping Game\")\n",
    "display(button)\n",
    "\n",
    "\n",
    "\n",
    "output = widgets.Output()\n",
    "gc = game_client()\n",
    "\n",
    "\n",
    "@output.capture()\n",
    "def on_button_clicked(b):\n",
    "    gc.get_game(game_id = game_id_input.value)\n",
    "    model_df, idx, current_status_df = gc.ping_game(sc.model)\n",
    "    print(\"*********\")\n",
    "    print(model_df.columns)\n",
    "    preds = sc.predict(model_df)\n",
    "    preds = [pred for pred in preds]\n",
    "    \n",
    "    current_status_df[\"predictions\"] = preds\n",
    "    current_status_df[\"xG\"] = current_status_df[\"predictions\"].apply(lambda x: 1 if(x>0.50) else 0)\n",
    "\n",
    "    \n",
    "    home_team = gc.home_team\n",
    "    away_team = gc.away_team\n",
    "    grouped_df = current_status_df.groupby(\"shot_by_team\")[\"xG\"].agg(\"sum\")\n",
    "    dashboard_dict = {f\"Period: {gc.dashboard_period}\": [\"Home Team\",home_team, grouped_df[\"Home\"]], f\"Time Remaining: {gc.dashboard_time}\": [\"Away Team\",away_team, grouped_df[\"Away\"]]}\n",
    "    dashboard_df = pd.DataFrame(dashboard_dict)\n",
    "    with output:\n",
    "        \n",
    "        #define figure and axes\n",
    "        fig, ax = plt.subplots()\n",
    "\n",
    "        #hide the axes\n",
    "        fig.patch.set_visible(False)\n",
    "        ax.axis('off')\n",
    "        ax.axis('tight')\n",
    "\n",
    "        #create table\n",
    "        table = ax.table(cellText=dashboard_df.values, colLabels=dashboard_df.columns, loc='center')\n",
    "\n",
    "        #display table\n",
    "        fig.tight_layout()\n",
    "        plt.show()\n",
    "        display(current_status_df)\n",
    "    \n",
    "\n",
    "button.on_click(on_button_clicked)\n",
    "display(output)"
   ],
   "outputs": [
    {
     "output_type": "display_data",
     "data": {
      "application/vnd.jupyter.widget-view+json": {
       "version_major": 2,
       "version_minor": 0,
       "model_id": "e0473e43ebc24911aaea5b3fc194d3fe"
      },
      "text/plain": [
       "HBox(children=(Dropdown(description='Workspace', options=('kleitoun', ''), value='kleitoun'), Dropdown(descrip…"
      ]
     },
     "metadata": {}
    },
    {
     "output_type": "display_data",
     "data": {
      "application/vnd.jupyter.widget-view+json": {
       "version_major": 2,
       "version_minor": 0,
       "model_id": "bf3e1cd78b5d4d84968b82ae4c28c8c3"
      },
      "text/plain": [
       "Button(description='Download Model', style=ButtonStyle())"
      ]
     },
     "metadata": {}
    },
    {
     "output_type": "display_data",
     "data": {
      "application/vnd.jupyter.widget-view+json": {
       "version_major": 2,
       "version_minor": 0,
       "model_id": "37c0dd30b18447759cbc3c070c639695"
      },
      "text/plain": [
       "Output()"
      ]
     },
     "metadata": {}
    },
    {
     "output_type": "display_data",
     "data": {
      "application/vnd.jupyter.widget-view+json": {
       "version_major": 2,
       "version_minor": 0,
       "model_id": "a6c18b9aaaea42e7a94d866da81d15dd"
      },
      "text/plain": [
       "Text(value='', description='Game ID')"
      ]
     },
     "metadata": {}
    },
    {
     "output_type": "display_data",
     "data": {
      "application/vnd.jupyter.widget-view+json": {
       "version_major": 2,
       "version_minor": 0,
       "model_id": "0afd5c51dcb54a4a9b478c1d874aaa35"
      },
      "text/plain": [
       "Button(description='Ping Game', style=ButtonStyle())"
      ]
     },
     "metadata": {}
    },
    {
     "output_type": "display_data",
     "data": {
      "application/vnd.jupyter.widget-view+json": {
       "version_major": 2,
       "version_minor": 0,
       "model_id": "733b17ceb43a4adfa46529fc468f8b1a"
      },
      "text/plain": [
       "Output()"
      ]
     },
     "metadata": {}
    }
   ],
   "metadata": {}
  },
  {
   "cell_type": "code",
   "execution_count": 28,
   "source": [
    "sc.logs()"
   ],
   "outputs": [
    {
     "output_type": "stream",
     "name": "stdout",
     "text": [
      "b'<!DOCTYPE HTML PUBLIC \"-//W3C//DTD HTML 3.2 Final//EN\">\\n<title>500 Internal Server Error</title>\\n<h1>Internal Server Error</h1>\\n<p>The server encountered an internal error and was unable to complete your request. Either the server is overloaded or there is an error in the application.</p>\\n'\n"
     ]
    },
    {
     "output_type": "execute_result",
     "data": {
      "text/plain": [
       "<Response [500]>"
      ]
     },
     "metadata": {},
     "execution_count": 28
    }
   ],
   "metadata": {}
  },
  {
   "cell_type": "code",
   "execution_count": null,
   "source": [],
   "outputs": [],
   "metadata": {}
  }
 ],
 "metadata": {
  "orig_nbformat": 4,
  "language_info": {
   "name": "python",
   "version": "3.9.7",
   "mimetype": "text/x-python",
   "codemirror_mode": {
    "name": "ipython",
    "version": 3
   },
   "pygments_lexer": "ipython3",
   "nbconvert_exporter": "python",
   "file_extension": ".py"
  },
  "kernelspec": {
   "name": "python3",
   "display_name": "Python 3.9.7 64-bit"
  },
  "interpreter": {
   "hash": "aee8b7b246df8f9039afb4144a1f6fd8d2ca17a180786b69acc140d282b71a49"
  }
 },
 "nbformat": 4,
 "nbformat_minor": 2
}