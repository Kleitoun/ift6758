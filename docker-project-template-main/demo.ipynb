{
 "cells": [
  {
   "cell_type": "code",
   "execution_count": 1,
   "metadata": {},
   "outputs": [],
   "source": [
    "%load_ext autoreload\n",
    "%autoreload 2"
   ]
  },
  {
   "cell_type": "code",
   "execution_count": 2,
   "metadata": {},
   "outputs": [],
   "source": [
    "import pandas as pd\n",
    "import numpy as np\n",
    "import requests\n",
    "import json\n",
    "import sys\n",
    "import os\n",
    "import pickle\n",
    "import ipywidgets as widgets\n",
    "from IPython.display import display\n",
    "import matplotlib.pyplot as plt"
   ]
  },
  {
   "cell_type": "code",
   "execution_count": 3,
   "metadata": {},
   "outputs": [
    {
     "name": "stdout",
     "output_type": "stream",
     "text": [
      "Obtaining file:///Users/mahdikleit/Documents/studies/udem/masters/data%20science/ift6758/docker-project-template-main/ift6758\n",
      "Installing collected packages: ift6758\n",
      "  Attempting uninstall: ift6758\n",
      "    Found existing installation: ift6758 0.1.0\n",
      "    Uninstalling ift6758-0.1.0:\n",
      "      Successfully uninstalled ift6758-0.1.0\n",
      "  Running setup.py develop for ift6758\n",
      "Successfully installed ift6758\n"
     ]
    }
   ],
   "source": [
    "!pip install -e ift6758"
   ]
  },
  {
   "cell_type": "code",
   "execution_count": 4,
   "metadata": {},
   "outputs": [],
   "source": [
    "\n",
    "from ift6758.client.game_client import GameClient as game_client\n",
    "from ift6758.client.serving_client import ServingClient as serving_client"
   ]
  },
  {
   "cell_type": "code",
   "execution_count": 5,
   "metadata": {},
   "outputs": [],
   "source": [
    "model_names = ['lrd', 'lrda', 'lda', 'xgboost', 'xgboost-tuning']\n",
    "workspace_names = ['kleitoun', '']\n",
    "version_list = ['1.0.0','']"
   ]
  },
  {
   "cell_type": "code",
   "execution_count": 6,
   "metadata": {},
   "outputs": [],
   "source": [
    "sc = serving_client(ip = \"serving\", port = \"5000\")"
   ]
  },
  {
   "cell_type": "code",
   "execution_count": 7,
   "metadata": {},
   "outputs": [
    {
     "data": {
      "text/plain": [
       "['INFO:app:succesfully loaded default model (kleitoun_lrd_1.0.0)\\n']"
      ]
     },
     "execution_count": 7,
     "metadata": {},
     "output_type": "execute_result"
    }
   ],
   "source": [
    "sc.logs()"
   ]
  },
  {
   "cell_type": "code",
   "execution_count": 8,
   "metadata": {},
   "outputs": [
    {
     "data": {
      "application/vnd.jupyter.widget-view+json": {
       "model_id": "478f3fcd2af64a08936107a54c31b0b4",
       "version_major": 2,
       "version_minor": 0
      },
      "text/plain": [
       "HBox(children=(Dropdown(description='Workspace', options=('kleitoun', ''), value='kleitoun'), Dropdown(descrip…"
      ]
     },
     "metadata": {},
     "output_type": "display_data"
    },
    {
     "data": {
      "application/vnd.jupyter.widget-view+json": {
       "model_id": "effcbdfa9dd24fa5a24f2eb2417d870c",
       "version_major": 2,
       "version_minor": 0
      },
      "text/plain": [
       "Button(description='Download Model', style=ButtonStyle())"
      ]
     },
     "metadata": {},
     "output_type": "display_data"
    },
    {
     "data": {
      "application/vnd.jupyter.widget-view+json": {
       "model_id": "c998c2a247c44ca8afd9ea92251a04c4",
       "version_major": 2,
       "version_minor": 0
      },
      "text/plain": [
       "Output()"
      ]
     },
     "metadata": {},
     "output_type": "display_data"
    },
    {
     "data": {
      "application/vnd.jupyter.widget-view+json": {
       "model_id": "cc4fcc0ac5ee4f64ac771377eeb7f014",
       "version_major": 2,
       "version_minor": 0
      },
      "text/plain": [
       "Text(value='', description='Game ID')"
      ]
     },
     "metadata": {},
     "output_type": "display_data"
    },
    {
     "data": {
      "application/vnd.jupyter.widget-view+json": {
       "model_id": "40e39946800648878bb87dc959305810",
       "version_major": 2,
       "version_minor": 0
      },
      "text/plain": [
       "Button(description='Ping Game', style=ButtonStyle())"
      ]
     },
     "metadata": {},
     "output_type": "display_data"
    },
    {
     "data": {
      "application/vnd.jupyter.widget-view+json": {
       "model_id": "6497fb086d6247de94572d4b6d444636",
       "version_major": 2,
       "version_minor": 0
      },
      "text/plain": [
       "Output()"
      ]
     },
     "metadata": {},
     "output_type": "display_data"
    }
   ],
   "source": [
    "########################################################## DOWNLOAD MODEL FUNCTIONALITY ######################################\n",
    "\n",
    "workspace = widgets.Dropdown(\n",
    "    description='Workspace',\n",
    "    value=workspace_names[0],\n",
    "    options=workspace_names\n",
    "\n",
    ")\n",
    "model_name = widgets.Dropdown(\n",
    "    description='Model Name',\n",
    "    value=model_names[0],\n",
    "    options=model_names\n",
    "\n",
    ")\n",
    "version = widgets.Dropdown(\n",
    "    description='Model Version',\n",
    "    value=version_list[0],\n",
    "    options=version_list\n",
    "\n",
    ")\n",
    "\n",
    "download_button = widgets.Button(description=\"Download Model\")\n",
    "\n",
    "output = widgets.Output()\n",
    "\n",
    "\n",
    "@output.capture()\n",
    "def on_button_clicked(b):\n",
    "    sc.download_registry_model(workspace = workspace.value, model = model_name.value, version = str(version.value))\n",
    "    with output:\n",
    "        print(\"Downloaded\")\n",
    "    \n",
    "    \n",
    "container2 = widgets.HBox(children=[workspace,model_name,version])\n",
    "display(container2)\n",
    "display(download_button)\n",
    "download_button.on_click(on_button_clicked)\n",
    "display(output)\n",
    "\n",
    "########################################################## PING GAME FUNCTIONALITY ######################################\n",
    "\n",
    "\n",
    "game_id_input = widgets.Text(description='Game ID')\n",
    "display(game_id_input)\n",
    "button = widgets.Button(description=\"Ping Game\")\n",
    "display(button)\n",
    "\n",
    "\n",
    "\n",
    "output = widgets.Output()\n",
    "gc = game_client()\n",
    "\n",
    "\n",
    "@output.capture()\n",
    "def on_button_clicked(b):\n",
    "    gc.get_game(game_id = game_id_input.value)\n",
    "    model_df, idx, current_status_df = gc.ping_game(sc.model)\n",
    "    print(\"*********\")\n",
    "    print(model_df.columns)\n",
    "    preds = sc.predict(model_df)\n",
    "    preds = [pred for pred in preds]\n",
    "    \n",
    "    current_status_df[\"predictions\"] = preds\n",
    "    current_status_df[\"xG\"] = current_status_df[\"predictions\"].apply(lambda x: 1 if(x>0.50) else 0)\n",
    "\n",
    "    \n",
    "    home_team = gc.home_team\n",
    "    away_team = gc.away_team\n",
    "    grouped_df = current_status_df.groupby(\"shot_by_team\")[\"xG\"].agg(\"sum\")\n",
    "    dashboard_dict = {f\"Period: {gc.dashboard_period}\": [\"Home Team\",home_team, grouped_df[\"Home\"]], f\"Time Remaining: {gc.dashboard_time}\": [\"Away Team\",away_team, grouped_df[\"Away\"]]}\n",
    "    dashboard_df = pd.DataFrame(dashboard_dict)\n",
    "    with output:\n",
    "        \n",
    "        #define figure and axes\n",
    "        fig, ax = plt.subplots()\n",
    "\n",
    "        #hide the axes\n",
    "        fig.patch.set_visible(False)\n",
    "        ax.axis('off')\n",
    "        ax.axis('tight')\n",
    "\n",
    "        #create table\n",
    "        table = ax.table(cellText=dashboard_df.values, colLabels=dashboard_df.columns, loc='center')\n",
    "\n",
    "        #display table\n",
    "        fig.tight_layout()\n",
    "        plt.show()\n",
    "        display(current_status_df)\n",
    "    \n",
    "\n",
    "button.on_click(on_button_clicked)\n",
    "display(output)"
   ]
  },
  {
   "cell_type": "code",
   "execution_count": 9,
   "metadata": {},
   "outputs": [
    {
     "data": {
      "text/plain": [
       "['INFO:app:succesfully loaded default model (kleitoun_lrd_1.0.0)\\n']"
      ]
     },
     "execution_count": 9,
     "metadata": {},
     "output_type": "execute_result"
    }
   ],
   "source": [
    "sc.logs()"
   ]
  },
  {
   "cell_type": "code",
   "execution_count": null,
   "metadata": {},
   "outputs": [],
   "source": []
  }
 ],
 "metadata": {
  "interpreter": {
   "hash": "aee8b7b246df8f9039afb4144a1f6fd8d2ca17a180786b69acc140d282b71a49"
  },
  "kernelspec": {
   "display_name": "Python 3",
   "language": "python",
   "name": "python3"
  },
  "language_info": {
   "codemirror_mode": {
    "name": "ipython",
    "version": 3
   },
   "file_extension": ".py",
   "mimetype": "text/x-python",
   "name": "python",
   "nbconvert_exporter": "python",
   "pygments_lexer": "ipython3",
   "version": "3.8.8"
  }
 },
 "nbformat": 4,
 "nbformat_minor": 4
}
