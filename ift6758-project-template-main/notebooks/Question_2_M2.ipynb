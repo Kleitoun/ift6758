{
 "cells": [
  {
   "cell_type": "code",
   "execution_count": 3,
   "id": "07c19142-3830-4e7a-bc18-41d0834dcc42",
   "metadata": {},
   "outputs": [],
   "source": [
    "import pandas as pd\n",
    "import numpy as np\n",
    "import math\n",
    "import requests\n",
    "import json\n",
    "import os\n",
    "from matplotlib import pyplot as plt\n",
    "import seaborn as sns"
   ]
  },
  {
   "cell_type": "code",
   "execution_count": 4,
   "id": "c0766a96-26ba-4881-9e4e-a554259b310a",
   "metadata": {},
   "outputs": [],
   "source": [
    "df = pd.read_csv('tidy_df.csv')"
   ]
  },
  {
   "cell_type": "code",
   "execution_count": 5,
   "id": "e1811144-cd18-45c2-a72e-500462b60db7",
   "metadata": {},
   "outputs": [],
   "source": [
    "# Angle of the shot added to the dataframe\n",
    "# df['angle_from_net'] = np.arcsin(df['y_coordinates'].abs()/df['distance_from_net'])*180/math.pi\n",
    "\n",
    "list_angle = []\n",
    "for i in range(0,df.shape[0]):\n",
    "\n",
    "    if df.attacking_team_side[i] == \"right\":\n",
    "        if df.y_coordinates[i] == 0:\n",
    "            list_angle.append(0)\n",
    "        elif df.y_coordinates[i] > 0:\n",
    "            list_angle.append(np.arcsin(df.y_coordinates[i]/df.distance_from_net[i])*-180/math.pi)\n",
    "        else:\n",
    "            list_angle.append(np.arcsin(df.y_coordinates[i]/df.distance_from_net[i])*-180/math.pi)\n",
    "            \n",
    "    elif df.attacking_team_side[i] == \"left\":\n",
    "        if df.y_coordinates[i] == 0:\n",
    "            list_angle.append(0)\n",
    "        elif df.y_coordinates[i] > 0:\n",
    "            list_angle.append(np.arcsin(df.y_coordinates[i]/df.distance_from_net[i])*180/math.pi)\n",
    "        else:\n",
    "            list_angle.append(np.arcsin(df.y_coordinates[i]/df.distance_from_net[i])*180/math.pi)\n",
    "df['angle_from_net'] = list_angle"
   ]
  },
  {
   "cell_type": "code",
   "execution_count": 6,
   "id": "9c16f232-3d09-4684-a347-217194640333",
   "metadata": {},
   "outputs": [],
   "source": [
    "# Imputing empty net data in existing dataframe\n",
    "\n",
    "df['empty_net'] = df['empty_net'].replace(np.nan,0)\n",
    "df['empty_net'] = df['empty_net'].replace(True,1)\n",
    "df['empty_net'] = df['empty_net'].replace(False,0)"
   ]
  },
  {
   "cell_type": "code",
   "execution_count": 7,
   "id": "317935bc-8253-4e59-b7a9-4b368a739c3f",
   "metadata": {},
   "outputs": [],
   "source": [
    "df = df[~df['distance_from_net'].isnull()] # distance was null for 17 rows\n",
    "df = df[~df['angle_from_net'].isnull()] # angle was null for 18 rows"
   ]
  },
  {
   "cell_type": "code",
   "execution_count": 8,
   "id": "57ff27cf-723d-47d7-a132-949080f8247a",
   "metadata": {},
   "outputs": [],
   "source": [
    "df.to_csv('mid_df.csv',index=False)"
   ]
  },
  {
   "cell_type": "code",
   "execution_count": null,
   "id": "435e25bd-d7c3-4319-b031-87271645926a",
   "metadata": {},
   "outputs": [],
   "source": [
    "# training (train+validation sets for model) and test tests creation\n",
    "\n",
    "df_train = df[df['season'] != 20192020]\n",
    "df_test = df[df['season'] == 20192020]"
   ]
  },
  {
   "cell_type": "code",
   "execution_count": null,
   "id": "6b8cabbd-c2d2-4082-80bb-2aa1c18c31f7",
   "metadata": {},
   "outputs": [],
   "source": [
    "df_train_nogoals = df_train[df_train['shot_ind']==1]\n",
    "df_train_goals = df_train[df_train['goal_ind']==1]"
   ]
  },
  {
   "cell_type": "code",
   "execution_count": null,
   "id": "575f3310-2b80-4a7f-95d1-ab999c51d86e",
   "metadata": {},
   "outputs": [],
   "source": [
    "fig = plt.figure(figsize=(35,10))\n",
    "plt.subplot(121)\n",
    "plt.hist(df_train_nogoals['distance_from_net'], edgecolor=\"yellow\", bins=math.ceil((df_train_nogoals['distance_from_net'].max() - df_train_nogoals['distance_from_net'].min())/5))\n",
    "plt.title(\"shots (excluding goals) binned by distance\")\n",
    "plt.show()"
   ]
  },
  {
   "cell_type": "code",
   "execution_count": null,
   "id": "d097a5c2-d1ce-4de5-9a56-77c95cf2de59",
   "metadata": {},
   "outputs": [],
   "source": [
    "fig = plt.figure(figsize=(35,10))\n",
    "plt.subplot(121)\n",
    "plt.hist(df_train_goals['distance_from_net'], edgecolor=\"yellow\", bins=math.ceil((df_train_goals['distance_from_net'].max() - df_train_goals['distance_from_net'].min())/5))\n",
    "plt.title(\"goals binned by distance\")\n",
    "plt.show()"
   ]
  },
  {
   "cell_type": "code",
   "execution_count": null,
   "id": "4fa7e500-1e05-4359-8ef0-1a4d189e2e6a",
   "metadata": {},
   "outputs": [],
   "source": [
    "fig = plt.figure(figsize=(35,10))\n",
    "plt.subplot(121)\n",
    "plt.hist(df_train_nogoals['angle_from_net'], edgecolor=\"yellow\", bins=math.ceil((df_train_nogoals['angle_from_net'].max() - df_train_nogoals['angle_from_net'].min())/5))\n",
    "plt.title(\"shots (excluding goals) binned by angle\")\n",
    "plt.show()"
   ]
  },
  {
   "cell_type": "code",
   "execution_count": null,
   "id": "32aeed6f-7c4d-4689-a36b-10e71e521e4b",
   "metadata": {},
   "outputs": [],
   "source": [
    "fig = plt.figure(figsize=(35,10))\n",
    "plt.subplot(121)\n",
    "plt.hist(df_train_goals['angle_from_net'],edgecolor=\"yellow\", bins=math.ceil((df_train_goals['angle_from_net'].max() - df_train_goals['angle_from_net'].min())/5))\n",
    "plt.title(\"goals binned by angle\")\n",
    "plt.show()"
   ]
  },
  {
   "cell_type": "code",
   "execution_count": null,
   "id": "e2bea218-baea-44f3-85d7-1a29c0fbfe7f",
   "metadata": {},
   "outputs": [],
   "source": [
    "# Joint plot showing the relation between distance of the shot and angle of the shot\n",
    "sns.jointplot(data=df_train, x=\"distance_from_net\", y=\"angle_from_net\", hue=\"goal_ind\")"
   ]
  },
  {
   "cell_type": "code",
   "execution_count": null,
   "id": "c576a831-784d-411c-b1cd-7ce8a138f1ed",
   "metadata": {},
   "outputs": [],
   "source": [
    "# Relation between goal rate and distance\n",
    "\n",
    "\n",
    "n_buckets = 20\n",
    "\n",
    "df_train['distance_from_net_bucket'] = pd.qcut(df_train['distance_from_net'], n_buckets, labels = False) +1\n",
    "df_train['angle_from_net_bucket'] = pd.qcut(df_train['angle_from_net'], n_buckets, labels = False) +1\n",
    "\n",
    "intervals = list(set(pd.qcut(df_train['distance_from_net'], n_buckets)))\n",
    "intervals.sort()\n",
    "intervals = [str(interval) for interval in intervals]\n",
    "\n",
    "\n",
    "intervals_ang = list(set(pd.qcut(df_train['angle_from_net'], n_buckets)))\n",
    "intervals_ang.sort()\n",
    "intervals_ang = [str(interval_ang) for interval_ang in intervals_ang]\n",
    "\n",
    "df_train_copy = df_train.copy()\n",
    "df_train_copy['shot_count'] = 1\n",
    "\n",
    "df_train_copy1 = df_train_copy[['goal_ind','shot_count','distance_from_net_bucket']].groupby(['distance_from_net_bucket']).sum().reset_index()\n",
    "df_train_copy1['goal_rate'] = df_train_copy1['goal_ind']/df_train_copy1['shot_count']\n",
    "\n",
    "y1_max = max(df_train_copy1['goal_rate'])\n",
    "\n",
    "fig = plt.figure(figsize = (14,7))\n",
    "ax = sns.lineplot(x = 'distance_from_net_bucket', y = 'goal_rate', label='goal percentage', data = df_train_copy1, color='b', legend = False, linewidth = 2.5)\n",
    "ax.set_xticks(range(1,n_buckets+1))\n",
    "ax.set_xticklabels(intervals, rotation = 45)\n",
    "ax.set_ylim(bottom=0, top=y1_max * 1.1)\n",
    "fig.legend(loc=\"upper right\")\n",
    "plt.title(f\"Relation between goal rate and distance\")\n",
    "fig.legend(loc=\"upper right\")\n",
    "plt.autoscale"
   ]
  },
  {
   "cell_type": "code",
   "execution_count": null,
   "id": "bb97a747-5d10-4b42-aeae-1f64f9e11419",
   "metadata": {},
   "outputs": [],
   "source": [
    "# Relation between goal rate and angle\n",
    "\n",
    "df_train_copy2 = df_train_copy[['goal_ind','shot_count','angle_from_net_bucket']].groupby(['angle_from_net_bucket']).sum().reset_index()\n",
    "df_train_copy2['goal_rate'] = df_train_copy2['goal_ind']/df_train_copy2['shot_count']\n",
    "\n",
    "y2_max = max(df_train_copy2['goal_rate'])\n",
    "\n",
    "fig = plt.figure(figsize = (14,7))\n",
    "ax = sns.lineplot(x = 'angle_from_net_bucket', y = 'goal_rate', label='goal percentage', data = df_train_copy2, color='b', legend = False, linewidth = 2.5)\n",
    "ax.set_xticks(range(1,n_buckets+1))\n",
    "ax.set_xticklabels(intervals_ang, rotation = 45)\n",
    "ax.set_ylim(bottom=0, top=y2_max * 1.1)\n",
    "fig.legend(loc=\"upper right\")\n",
    "plt.title(f\"Relation between goal rate and angle\")\n",
    "fig.legend(loc=\"upper right\")\n",
    "plt.autoscale()\n",
    "fig.show()"
   ]
  },
  {
   "cell_type": "code",
   "execution_count": null,
   "id": "f71ab8d2-5353-490e-978a-ac925a52393f",
   "metadata": {},
   "outputs": [],
   "source": [
    "#goals only to be binned by distance for empty net and non-empty net events\n",
    "\n",
    "df_train_empty_net = df_train[(df_train['empty_net']==1) & (df_train['goal_ind']==1)]\n",
    "df_train_non_empty_net = df_train[(df_train['empty_net']==0) & (df_train['goal_ind']==1)]\n",
    "df_train_empty_net.shape"
   ]
  },
  {
   "cell_type": "code",
   "execution_count": null,
   "id": "615f15bd-6f30-48b8-8932-4f1732bcbddb",
   "metadata": {},
   "outputs": [],
   "source": [
    "fig = plt.figure(figsize=(35,10))\n",
    "plt.subplot(121)\n",
    "plt.hist(df_train_empty_net['distance_from_net'], edgecolor=\"yellow\", bins=math.ceil((df_train_empty_net['distance_from_net'].max() - df_train_empty_net['distance_from_net'].min())/5))\n",
    "plt.title(\"Empty net goals binned by distance\")\n",
    "plt.show()"
   ]
  },
  {
   "cell_type": "code",
   "execution_count": null,
   "id": "7180cc1e-9cff-493b-9d04-305495f058c0",
   "metadata": {},
   "outputs": [],
   "source": [
    "fig = plt.figure(figsize=(35,10))\n",
    "plt.subplot(121)\n",
    "plt.hist(df_train_non_empty_net['distance_from_net'], edgecolor=\"yellow\", bins=math.ceil((df_train_non_empty_net['distance_from_net'].max() - df_train_non_empty_net['distance_from_net'].min())/5))\n",
    "plt.title(\"Non empty net goals binned by distance\")\n",
    "plt.show()"
   ]
  },
  {
   "cell_type": "code",
   "execution_count": null,
   "id": "34b4612e-e96c-4590-972e-0d48235eb8bb",
   "metadata": {},
   "outputs": [],
   "source": [
    "# events that have incorrect features (e.g. wrong x/y coordinates) validated by the NHL gamecenter video clips\n",
    "\n",
    "\n",
    "df_goals = df[df['goal_ind']==1]\n",
    "df_goals_anomaly = df_goals[(df_goals['x_coordinates'].abs()>89)&(df_goals['distance_from_net']>=150)&(df_goals['empty_net']==0)]\n",
    "df_goals_anomaly"
   ]
  }
 ],
 "metadata": {
  "kernelspec": {
   "display_name": "Python 3",
   "language": "python",
   "name": "python3"
  },
  "language_info": {
   "codemirror_mode": {
    "name": "ipython",
    "version": 3
   },
   "file_extension": ".py",
   "mimetype": "text/x-python",
   "name": "python",
   "nbconvert_exporter": "python",
   "pygments_lexer": "ipython3",
   "version": "3.8.8"
  }
 },
 "nbformat": 4,
 "nbformat_minor": 5
}
