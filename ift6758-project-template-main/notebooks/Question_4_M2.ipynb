{
 "cells": [
  {
   "cell_type": "code",
   "execution_count": 1,
   "id": "5486b6c8-33f0-4d46-8149-320820c32c40",
   "metadata": {},
   "outputs": [],
   "source": [
    "from comet_ml import Experiment"
   ]
  },
  {
   "cell_type": "code",
   "execution_count": 2,
   "id": "e2b61d03-4cd2-4c66-8b15-0073b904402a",
   "metadata": {},
   "outputs": [],
   "source": [
    "import numpy as np \n",
    "import pandas as pd\n",
    "import os\n",
    "import sys\n",
    "sys.path.append('../ift6758/data/')\n",
    "\n",
    "from question_4_m2 import *"
   ]
  },
  {
   "cell_type": "code",
   "execution_count": 3,
   "id": "38abcad1-69ce-4c8a-9873-40eb675a1910",
   "metadata": {},
   "outputs": [
    {
     "name": "stderr",
     "output_type": "stream",
     "text": [
      "COMET WARNING: As you are running in a Jupyter environment, you will need to call `experiment.end()` when finished to ensure all metrics and code are logged before exiting.\n",
      "COMET INFO: Experiment is live on comet.ml https://www.comet.ml/kleitoun/feature-engineering-data/2093d1529220468f8f8fe4b03c982560\n",
      "\n"
     ]
    }
   ],
   "source": [
    "exp = Experiment(\n",
    "        api_key=os.environ.get('COMET_API_KEY'),\n",
    "        project_name=\"feature_engineering_data\",\n",
    "        workspace=\"kleitoun\",\n",
    ")"
   ]
  },
  {
   "cell_type": "code",
   "execution_count": 4,
   "id": "0ec36203-22c8-40ec-94ad-bd933370f177",
   "metadata": {},
   "outputs": [],
   "source": [
    "df = pd.read_csv('mid_df.csv')"
   ]
  },
  {
   "cell_type": "markdown",
   "id": "b1acab20-695c-4a65-bc70-5f2133aed5c4",
   "metadata": {},
   "source": [
    "## Adding new features"
   ]
  },
  {
   "cell_type": "code",
   "execution_count": 5,
   "id": "ca4719f0-689b-450f-9180-f4747157cbb2",
   "metadata": {},
   "outputs": [],
   "source": [
    "df = get_new_features(df)\n",
    "df = get_angle_change(df)"
   ]
  },
  {
   "cell_type": "markdown",
   "id": "12b4fd43-45bc-43fb-8f5d-cfd9d73e0356",
   "metadata": {},
   "source": [
    "## One hot encoding of type of shots"
   ]
  },
  {
   "cell_type": "code",
   "execution_count": 6,
   "id": "0a329ef7-e5d1-4305-8e38-42e0593eae13",
   "metadata": {},
   "outputs": [],
   "source": [
    "df = df.join(pd.get_dummies(df[['shot_type','goalie','attacking_team']]))"
   ]
  },
  {
   "cell_type": "markdown",
   "id": "bc2e2197-6366-435c-972d-8c5a5da0436e",
   "metadata": {},
   "source": [
    "## Replacing NaN values with medians"
   ]
  },
  {
   "cell_type": "code",
   "execution_count": 7,
   "id": "4daf8f66-76f8-4b93-9c5d-7fd16971503a",
   "metadata": {},
   "outputs": [],
   "source": [
    "df['distance_from_net'] = df['distance_from_net'].fillna(df['distance_from_net'].median())\n",
    "df['distance_from_last_event'] = df['distance_from_last_event'].fillna(df['distance_from_last_event'].median())\n",
    "df['speed'] = df['speed'].fillna(df['speed'].median())\n",
    "df['speed'] = df['speed'].replace([np.inf, -np.inf], df['speed'].median())\n",
    "df['angle_from_net'] = df['angle_from_net'].fillna(df['angle_from_net'].median())\n",
    "df['change_in_angle'] = df['change_in_angle'].fillna(df['change_in_angle'].median())"
   ]
  },
  {
   "cell_type": "markdown",
   "id": "2af07736-b696-4a87-97ba-d24a6f69655d",
   "metadata": {},
   "source": [
    "## Replacing NaN values with 0 "
   ]
  },
  {
   "cell_type": "code",
   "execution_count": 8,
   "id": "81550fd6-c6d7-4311-8f92-b5c338e1a83c",
   "metadata": {},
   "outputs": [],
   "source": [
    "df.replace([np.inf, -np.inf], np.nan, inplace=True)\n",
    "df = df.fillna(0)"
   ]
  },
  {
   "cell_type": "code",
   "execution_count": 9,
   "id": "c3afbcee-47b0-4e94-972d-d79573de0db2",
   "metadata": {},
   "outputs": [],
   "source": [
    "df.to_csv('final_df.csv',index=False)"
   ]
  },
  {
   "cell_type": "code",
   "execution_count": 10,
   "id": "adc26bf3-0b28-463f-a234-b5f463406813",
   "metadata": {},
   "outputs": [],
   "source": [
    "subset_df = df.loc[df['game_id'] == 2017021065]"
   ]
  },
  {
   "cell_type": "code",
   "execution_count": 11,
   "id": "551333ab-14b2-429a-ac2c-21a79c82b501",
   "metadata": {},
   "outputs": [
    {
     "name": "stderr",
     "output_type": "stream",
     "text": [
      "COMET WARNING: pandas_profiling is required to log profile; ignoring\n"
     ]
    },
    {
     "data": {
      "text/plain": [
       "{'profile': None,\n",
       " 'dataframe': {'web': 'https://www.comet.ml/api/asset/download?assetId=fd8ebebe4760434bb65b52e57139be70&experimentKey=2093d1529220468f8f8fe4b03c982560',\n",
       "  'api': 'https://www.comet.ml/api/rest/v2/experiment/asset/get-asset?assetId=fd8ebebe4760434bb65b52e57139be70&experimentKey=2093d1529220468f8f8fe4b03c982560',\n",
       "  'assetId': 'fd8ebebe4760434bb65b52e57139be70'}}"
      ]
     },
     "execution_count": 11,
     "metadata": {},
     "output_type": "execute_result"
    }
   ],
   "source": [
    "exp.log_dataframe_profile(\n",
    "    subset_df, \n",
    "    name='wpg_v_wsh_2017021065',\n",
    "    dataframe_format='csv'  \n",
    "    )\n"
   ]
  },
  {
   "cell_type": "code",
   "execution_count": 12,
   "id": "c23ae75a-44fb-4717-83ec-c65d25c9e816",
   "metadata": {},
   "outputs": [
    {
     "name": "stderr",
     "output_type": "stream",
     "text": [
      "COMET INFO: ---------------------------\n",
      "COMET INFO: Comet.ml Experiment Summary\n",
      "COMET INFO: ---------------------------\n",
      "COMET INFO:   Data:\n",
      "COMET INFO:     display_summary_level : 1\n",
      "COMET INFO:     url                   : https://www.comet.ml/kleitoun/feature-engineering-data/2093d1529220468f8f8fe4b03c982560\n",
      "COMET INFO:   Uploads:\n",
      "COMET INFO:     dataframe                : 1 (53.02 KB)\n",
      "COMET INFO:     environment details      : 1\n",
      "COMET INFO:     filename                 : 1\n",
      "COMET INFO:     git metadata             : 1\n",
      "COMET INFO:     git-patch (uncompressed) : 1 (175.76 MB)\n",
      "COMET INFO:     installed packages       : 1\n",
      "COMET INFO:     notebook                 : 1\n",
      "COMET INFO:     source_code              : 1\n",
      "COMET INFO: ---------------------------\n",
      "COMET INFO: Uploading metrics, params, and assets to Comet before program termination (may take several seconds)\n",
      "COMET INFO: The Python SDK has 3600 seconds to finish before aborting...\n"
     ]
    }
   ],
   "source": [
    "exp.end()"
   ]
  },
  {
   "cell_type": "code",
   "execution_count": null,
   "id": "9b8bc41c-b9ec-4ae9-907c-35b96cedae7a",
   "metadata": {},
   "outputs": [],
   "source": []
  }
 ],
 "metadata": {
  "kernelspec": {
   "display_name": "Python 3",
   "language": "python",
   "name": "python3"
  },
  "language_info": {
   "codemirror_mode": {
    "name": "ipython",
    "version": 3
   },
   "file_extension": ".py",
   "mimetype": "text/x-python",
   "name": "python",
   "nbconvert_exporter": "python",
   "pygments_lexer": "ipython3",
   "version": "3.8.8"
  }
 },
 "nbformat": 4,
 "nbformat_minor": 5
}
