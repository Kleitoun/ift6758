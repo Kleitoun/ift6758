{
 "cells": [
  {
   "cell_type": "code",
   "execution_count": 1,
   "id": "5486b6c8-33f0-4d46-8149-320820c32c40",
   "metadata": {},
   "outputs": [],
   "source": [
    "import numpy as np \n",
    "import pandas as pd\n",
    "import sys\n",
    "sys.path.append('../ift6758/data/')\n",
    "\n",
    "from question_4_m2 import *"
   ]
  },
  {
   "cell_type": "code",
   "execution_count": 2,
   "id": "ca4719f0-689b-450f-9180-f4747157cbb2",
   "metadata": {},
   "outputs": [],
   "source": [
    "temp = get_new_features()"
   ]
  },
  {
   "cell_type": "code",
   "execution_count": 3,
   "id": "b8a68195-089f-4913-874a-14fbe2d922af",
   "metadata": {},
   "outputs": [
    {
     "data": {
      "text/plain": [
       "game_id                           int64\n",
       "season                            int64\n",
       "season_type                      object\n",
       "event_id                          int64\n",
       "home_team                        object\n",
       "away_team                        object\n",
       "home_team_side_1st_period        object\n",
       "attacking_team                   object\n",
       "attacking_player                 object\n",
       "goalie                           object\n",
       "period                            int64\n",
       "period_time                      object\n",
       "goal_ind                          int64\n",
       "shot_ind                          int64\n",
       "x_coordinates                   float64\n",
       "y_coordinates                   float64\n",
       "shot_type                        object\n",
       "empty_net                        object\n",
       "strength                         object\n",
       "gwg                              object\n",
       "previous_event_x_coordinates    float64\n",
       "previous_event_y_coordinates    float64\n",
       "previous_event_period_time       object\n",
       "previous_event_type              object\n",
       "previous_event_period             int64\n",
       "distance_from_net               float64\n",
       "attacking_team_side              object\n",
       "game_seconds                      int64\n",
       "previous_event_game_seconds       int64\n",
       "time_since_last_event             int64\n",
       "distance_from_last_event        float64\n",
       "rebound                            bool\n",
       "speed                           float64\n",
       "dtype: object"
      ]
     },
     "execution_count": 3,
     "metadata": {},
     "output_type": "execute_result"
    }
   ],
   "source": [
    "temp.dtypes"
   ]
  },
  {
   "cell_type": "code",
   "execution_count": 4,
   "id": "b376a59f-9a8c-433b-b6bb-44a11d333911",
   "metadata": {},
   "outputs": [],
   "source": [
    "temp.to_csv('test.csv',index=False)"
   ]
  },
  {
   "cell_type": "code",
   "execution_count": null,
   "id": "9cfd7447-4591-45c5-8157-3aaa983d6010",
   "metadata": {},
   "outputs": [],
   "source": []
  }
 ],
 "metadata": {
  "kernelspec": {
   "display_name": "Python 3",
   "language": "python",
   "name": "python3"
  },
  "language_info": {
   "codemirror_mode": {
    "name": "ipython",
    "version": 3
   },
   "file_extension": ".py",
   "mimetype": "text/x-python",
   "name": "python",
   "nbconvert_exporter": "python",
   "pygments_lexer": "ipython3",
   "version": "3.8.8"
  }
 },
 "nbformat": 4,
 "nbformat_minor": 5
}
