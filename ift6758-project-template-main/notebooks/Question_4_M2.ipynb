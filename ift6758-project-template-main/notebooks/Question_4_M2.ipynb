{
 "cells": [
  {
   "cell_type": "code",
   "execution_count": 1,
   "id": "5486b6c8-33f0-4d46-8149-320820c32c40",
   "metadata": {},
   "outputs": [],
   "source": [
    "import numpy as np \n",
    "import pandas as pd\n",
    "import sys\n",
    "sys.path.append('../ift6758/data/')\n",
    "\n",
    "from question_4_m2 import *"
   ]
  },
  {
   "cell_type": "code",
   "execution_count": 2,
   "id": "0ec36203-22c8-40ec-94ad-bd933370f177",
   "metadata": {},
   "outputs": [],
   "source": [
    "df = pd.read_csv('tidy_df.csv')"
   ]
  },
  {
   "cell_type": "code",
   "execution_count": 3,
   "id": "ca4719f0-689b-450f-9180-f4747157cbb2",
   "metadata": {},
   "outputs": [],
   "source": [
    "df = get_new_features()"
   ]
  },
  {
   "cell_type": "code",
   "execution_count": 4,
   "id": "b376a59f-9a8c-433b-b6bb-44a11d333911",
   "metadata": {},
   "outputs": [],
   "source": [
    "df = get_angle_change()"
   ]
  },
  {
   "cell_type": "code",
   "execution_count": 5,
   "id": "c3afbcee-47b0-4e94-972d-d79573de0db2",
   "metadata": {},
   "outputs": [],
   "source": [
    "df.to_csv('tidy_df.csv',index=False)"
   ]
  }
 ],
 "metadata": {
  "kernelspec": {
   "display_name": "Python 3",
   "language": "python",
   "name": "python3"
  },
  "language_info": {
   "codemirror_mode": {
    "name": "ipython",
    "version": 3
   },
   "file_extension": ".py",
   "mimetype": "text/x-python",
   "name": "python",
   "nbconvert_exporter": "python",
   "pygments_lexer": "ipython3",
   "version": "3.8.8"
  }
 },
 "nbformat": 4,
 "nbformat_minor": 5
}
