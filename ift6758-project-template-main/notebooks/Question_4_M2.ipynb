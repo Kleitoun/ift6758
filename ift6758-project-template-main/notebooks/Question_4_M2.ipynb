{
 "cells": [
  {
   "cell_type": "code",
   "execution_count": 1,
   "id": "5486b6c8-33f0-4d46-8149-320820c32c40",
   "metadata": {},
   "outputs": [],
   "source": [
    "import numpy as np \n",
    "import pandas as pd\n",
    "import sys\n",
    "sys.path.append('../ift6758/data/')\n",
    "\n",
    "from question_4_m2 import *"
   ]
  },
  {
   "cell_type": "code",
   "execution_count": 2,
   "id": "0ec36203-22c8-40ec-94ad-bd933370f177",
   "metadata": {},
   "outputs": [],
   "source": [
    "df = pd.read_csv('mid_df.csv')"
   ]
  },
  {
   "cell_type": "markdown",
   "id": "b1acab20-695c-4a65-bc70-5f2133aed5c4",
   "metadata": {},
   "source": [
    "## Adding new features"
   ]
  },
  {
   "cell_type": "code",
   "execution_count": 3,
   "id": "ca4719f0-689b-450f-9180-f4747157cbb2",
   "metadata": {},
   "outputs": [],
   "source": [
    "df = get_new_features(df)\n",
    "df = get_angle_change(df)"
   ]
  },
  {
   "cell_type": "markdown",
   "id": "12b4fd43-45bc-43fb-8f5d-cfd9d73e0356",
   "metadata": {},
   "source": [
    "## One hot encoding of type of shots"
   ]
  },
  {
   "cell_type": "code",
   "execution_count": 4,
   "id": "0a329ef7-e5d1-4305-8e38-42e0593eae13",
   "metadata": {},
   "outputs": [],
   "source": [
    "df = df.join(pd.get_dummies(df[['shot_type','attacking_team']]))"
   ]
  },
  {
   "cell_type": "markdown",
   "id": "2af07736-b696-4a87-97ba-d24a6f69655d",
   "metadata": {},
   "source": [
    "## Replacing NaN values with 0 "
   ]
  },
  {
   "cell_type": "code",
   "execution_count": 5,
   "id": "81550fd6-c6d7-4311-8f92-b5c338e1a83c",
   "metadata": {},
   "outputs": [],
   "source": [
    "df.replace([np.inf, -np.inf], np.nan, inplace=True)\n",
    "df = df.fillna(0)"
   ]
  },
  {
   "cell_type": "code",
   "execution_count": 6,
   "id": "c3afbcee-47b0-4e94-972d-d79573de0db2",
   "metadata": {},
   "outputs": [],
   "source": [
    "df.to_csv('final_df.csv',index=False)"
   ]
  }
 ],
 "metadata": {
  "kernelspec": {
   "display_name": "Python 3",
   "language": "python",
   "name": "python3"
  },
  "language_info": {
   "codemirror_mode": {
    "name": "ipython",
    "version": 3
   },
   "file_extension": ".py",
   "mimetype": "text/x-python",
   "name": "python",
   "nbconvert_exporter": "python",
   "pygments_lexer": "ipython3",
   "version": "3.6.13"
  }
 },
 "nbformat": 4,
 "nbformat_minor": 5
}
