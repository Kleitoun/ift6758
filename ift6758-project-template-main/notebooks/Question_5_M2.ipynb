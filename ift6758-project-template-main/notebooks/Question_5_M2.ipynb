{
 "cells": [
  {
   "cell_type": "markdown",
   "id": "1565506f",
   "metadata": {
    "papermill": {
     "duration": 0.057283,
     "end_time": "2021-11-23T19:39:38.717653",
     "exception": false,
     "start_time": "2021-11-23T19:39:38.660370",
     "status": "completed"
    },
    "tags": []
   },
   "source": [
    "# Imports"
   ]
  },
  {
   "cell_type": "code",
   "execution_count": 1,
   "id": "7501f5b1",
   "metadata": {
    "papermill": {
     "duration": 2.17694,
     "end_time": "2021-11-23T19:39:40.952554",
     "exception": false,
     "start_time": "2021-11-23T19:39:38.775614",
     "status": "completed"
    },
    "tags": []
   },
   "outputs": [],
   "source": [
    "# Import before anyone else\n",
    "\n",
    "# import comet_ml\n",
    "from comet_ml import Experiment\n",
    "\n",
    "import xgboost as xgb\n",
    "from xgboost import XGBClassifier\n",
    "from sklearn import metrics\n",
    "from sklearn.metrics import accuracy_score\n",
    "from sklearn.model_selection import train_test_split\n",
    "import shap\n",
    "import os\n",
    "import math\n",
    "import pandas as pd\n",
    "import numpy as np\n",
    "from matplotlib import pyplot as plt\n",
    "\n",
    "from collections import Counter"
   ]
  },
  {
   "cell_type": "markdown",
   "id": "9efc0cfb",
   "metadata": {},
   "source": [
    "# Load Data"
   ]
  },
  {
   "cell_type": "code",
   "execution_count": 2,
   "id": "d84d23e6",
   "metadata": {},
   "outputs": [
    {
     "name": "stdout",
     "output_type": "stream",
     "text": [
      "Index(['game_id', 'season', 'season_type', 'event_id', 'home_team',\n",
      "       'away_team', 'home_team_side_1st_period', 'attacking_team',\n",
      "       'attacking_player', 'goalie',\n",
      "       ...\n",
      "       'attacking_team_Philadelphia Flyers',\n",
      "       'attacking_team_Pittsburgh Penguins', 'attacking_team_San Jose Sharks',\n",
      "       'attacking_team_St. Louis Blues', 'attacking_team_Tampa Bay Lightning',\n",
      "       'attacking_team_Toronto Maple Leafs',\n",
      "       'attacking_team_Vancouver Canucks',\n",
      "       'attacking_team_Vegas Golden Knights',\n",
      "       'attacking_team_Washington Capitals', 'attacking_team_Winnipeg Jets'],\n",
      "      dtype='object', length=235)\n"
     ]
    }
   ],
   "source": [
    "df = pd.read_csv('final_df.csv', index_col = None)\n",
    "print(df.columns)"
   ]
  },
  {
   "cell_type": "code",
   "execution_count": 3,
   "id": "2c880e76",
   "metadata": {
    "papermill": {
     "duration": 0.068024,
     "end_time": "2021-11-23T19:40:32.322484",
     "exception": false,
     "start_time": "2021-11-23T19:40:32.254460",
     "status": "completed"
    },
    "tags": []
   },
   "outputs": [
    {
     "name": "stdout",
     "output_type": "stream",
     "text": [
      "28 60 32\n"
     ]
    }
   ],
   "source": [
    "old_feat = ['game_id', 'season', 'season_type', 'event_id', 'home_team',\n",
    "       'away_team', 'home_team_side_1st_period', 'attacking_team',\n",
    "       'attacking_player', 'goalie', 'period', 'period_time', 'goal_ind',\n",
    "       'shot_ind', 'x_coordinates', 'y_coordinates', 'shot_type', 'empty_net',\n",
    "       'strength', 'gwg', 'previous_event_x_coordinates',\n",
    "       'previous_event_y_coordinates', 'previous_event_period_time',\n",
    "       'previous_event_type', 'previous_event_period', 'distance_from_net',\n",
    "       'attacking_team_side', 'angle_from_net']\n",
    "\n",
    "df_feat = df.iloc[:,:60].columns.tolist()\n",
    "\n",
    "# features extracted in question 4\n",
    "new_feat = [feat for feat in df_feat if feat not in old_feat]\n",
    "print(len(old_feat),len(df_feat),len(new_feat) )"
   ]
  },
  {
   "cell_type": "markdown",
   "id": "70dc6919",
   "metadata": {
    "papermill": {
     "duration": 0.057433,
     "end_time": "2021-11-23T19:40:32.438403",
     "exception": false,
     "start_time": "2021-11-23T19:40:32.380970",
     "status": "completed"
    },
    "tags": []
   },
   "source": [
    "# Data Split"
   ]
  },
  {
   "cell_type": "code",
   "execution_count": 4,
   "id": "84677f35",
   "metadata": {
    "papermill": {
     "duration": 0.127668,
     "end_time": "2021-11-23T19:40:32.623966",
     "exception": false,
     "start_time": "2021-11-23T19:40:32.496298",
     "status": "completed"
    },
    "tags": []
   },
   "outputs": [],
   "source": [
    "df_train = df[df['season'] != 20192020]\n",
    "df_test = df[df['season'] == 20192020]\n",
    "df_train_XG = df_train.copy()\n",
    "df_train_XG2 = df_train.copy()\n"
   ]
  },
  {
   "cell_type": "markdown",
   "id": "128b8be4",
   "metadata": {
    "papermill": {
     "duration": 0.058335,
     "end_time": "2021-11-23T19:40:32.741000",
     "exception": false,
     "start_time": "2021-11-23T19:40:32.682665",
     "status": "completed"
    },
    "tags": []
   },
   "source": [
    "## 5.1 Train-test"
   ]
  },
  {
   "cell_type": "code",
   "execution_count": 5,
   "id": "713630a3",
   "metadata": {
    "papermill": {
     "duration": 0.27431,
     "end_time": "2021-11-23T19:40:33.074919",
     "exception": false,
     "start_time": "2021-11-23T19:40:32.800609",
     "status": "completed"
    },
    "tags": []
   },
   "outputs": [],
   "source": [
    "X_1 = df_train[['angle_from_net', 'distance_from_net']]\n",
    "y_1 = df_train['goal_ind']\n",
    "#y = y.astype(int)\n",
    "# (#BLOG)\n",
    "X_train_1, X_valid_1, y_train_1, y_valid_1 = train_test_split(X_1,y_1,test_size=0.15,random_state=10, stratify=y_1, shuffle = True)"
   ]
  },
  {
   "cell_type": "markdown",
   "id": "fc796c56",
   "metadata": {
    "papermill": {
     "duration": 0.057609,
     "end_time": "2021-11-23T19:40:33.191423",
     "exception": false,
     "start_time": "2021-11-23T19:40:33.133814",
     "status": "completed"
    },
    "tags": []
   },
   "source": [
    "## 5.2 Train-test"
   ]
  },
  {
   "cell_type": "code",
   "execution_count": 6,
   "id": "a397ccc9",
   "metadata": {
    "papermill": {
     "duration": 0.291494,
     "end_time": "2021-11-23T19:40:33.541230",
     "exception": false,
     "start_time": "2021-11-23T19:40:33.249736",
     "status": "completed"
    },
    "tags": []
   },
   "outputs": [],
   "source": [
    "X_2 = df_train[new_feat]\n",
    "y_2 = df_train['goal_ind']\n",
    "#y = y.astype(int)\n",
    "X_train_2, X_valid_2, y_train_2, y_valid_2 = train_test_split(X_2,y_2,test_size=0.15,random_state=10, stratify=y_2, shuffle = True)"
   ]
  },
  {
   "cell_type": "code",
   "execution_count": 7,
   "id": "0009e1f8",
   "metadata": {
    "papermill": {
     "duration": 0.066372,
     "end_time": "2021-11-23T19:40:33.666095",
     "exception": false,
     "start_time": "2021-11-23T19:40:33.599723",
     "status": "completed"
    },
    "tags": []
   },
   "outputs": [
    {
     "name": "stdout",
     "output_type": "stream",
     "text": [
      "(282813, 2)\n",
      "(282813, 32)\n"
     ]
    }
   ],
   "source": [
    "print(X_train_1.shape)\n",
    "print(X_train_2.shape)"
   ]
  },
  {
   "cell_type": "code",
   "execution_count": 8,
   "id": "8b7f6bf6",
   "metadata": {
    "papermill": {
     "duration": 0.069373,
     "end_time": "2021-11-23T19:40:33.794476",
     "exception": false,
     "start_time": "2021-11-23T19:40:33.725103",
     "status": "completed"
    },
    "tags": []
   },
   "outputs": [
    {
     "data": {
      "text/plain": [
       "0    301638\n",
       "1     31084\n",
       "Name: goal_ind, dtype: int64"
      ]
     },
     "execution_count": 8,
     "metadata": {},
     "output_type": "execute_result"
    }
   ],
   "source": [
    "df_train[\"goal_ind\"].value_counts()"
   ]
  },
  {
   "cell_type": "markdown",
   "id": "7cdee2b1",
   "metadata": {
    "papermill": {
     "duration": 0.058853,
     "end_time": "2021-11-23T19:40:33.911722",
     "exception": false,
     "start_time": "2021-11-23T19:40:33.852869",
     "status": "completed"
    },
    "tags": []
   },
   "source": [
    "# cometml"
   ]
  },
  {
   "cell_type": "code",
   "execution_count": 9,
   "id": "ba1b023a",
   "metadata": {
    "papermill": {
     "duration": 0.066112,
     "end_time": "2021-11-23T19:40:34.036224",
     "exception": false,
     "start_time": "2021-11-23T19:40:33.970112",
     "status": "completed"
    },
    "tags": []
   },
   "outputs": [
    {
     "name": "stderr",
     "output_type": "stream",
     "text": [
      "COMET WARNING: As you are running in a Jupyter environment, you will need to call `experiment.end()` when finished to ensure all metrics and code are logged before exiting.\n",
      "COMET INFO: Experiment is live on comet.ml https://www.comet.ml/kleitoun/xgboost/ac7d512d6bcf457383fb932059978551\n",
      "\n"
     ]
    }
   ],
   "source": [
    "experiment = Experiment(\n",
    "    api_key=os.environ.get('COMET_API_KEY'),\n",
    "    project_name=\"xgboost\",\n",
    "    workspace=\"kleitoun\",\n",
    ")"
   ]
  },
  {
   "cell_type": "markdown",
   "id": "681fd551",
   "metadata": {
    "papermill": {
     "duration": 0.058916,
     "end_time": "2021-11-23T19:40:34.153362",
     "exception": false,
     "start_time": "2021-11-23T19:40:34.094446",
     "status": "completed"
    },
    "tags": []
   },
   "source": [
    "# XGBoost Classifier"
   ]
  },
  {
   "cell_type": "markdown",
   "id": "3afb238a",
   "metadata": {
    "papermill": {
     "duration": 0.058979,
     "end_time": "2021-11-23T19:40:34.270561",
     "exception": false,
     "start_time": "2021-11-23T19:40:34.211582",
     "status": "completed"
    },
    "tags": []
   },
   "source": [
    "## 5.1"
   ]
  },
  {
   "cell_type": "markdown",
   "id": "a7940224",
   "metadata": {
    "papermill": {
     "duration": 0.05793,
     "end_time": "2021-11-23T19:40:34.386641",
     "exception": false,
     "start_time": "2021-11-23T19:40:34.328711",
     "status": "completed"
    },
    "tags": []
   },
   "source": [
    "## Experiment url: https://www.comet.ml/kleitoun/milestone-2/6244c288bec04ab28ba6c2c030708813?experiment-tab=metrics"
   ]
  },
  {
   "cell_type": "code",
   "execution_count": 10,
   "id": "e32434c8",
   "metadata": {
    "papermill": {
     "duration": 8.698434,
     "end_time": "2021-11-23T19:40:43.143031",
     "exception": false,
     "start_time": "2021-11-23T19:40:34.444597",
     "status": "completed"
    },
    "tags": []
   },
   "outputs": [
    {
     "name": "stderr",
     "output_type": "stream",
     "text": [
      "The use of label encoder in XGBClassifier is deprecated and will be removed in a future release. To remove this warning, do the following: 1) Pass option use_label_encoder=False when constructing XGBClassifier object; and 2) Encode your labels (y) as integers starting with 0, i.e. 0, 1, 2, ..., [num_class - 1].\n",
      "Old style callback is deprecated.  See: https://xgboost.readthedocs.io/en/latest/python/callbacks.html\n",
      "COMET WARNING: You must install graphviz to plot tree\n"
     ]
    },
    {
     "data": {
      "text/plain": [
       "XGBClassifier(base_score=0.5, booster='gbtree', colsample_bylevel=1,\n",
       "              colsample_bynode=1, colsample_bytree=1, enable_categorical=False,\n",
       "              gamma=0, gpu_id=-1, importance_type=None,\n",
       "              interaction_constraints='', learning_rate=0.300000012,\n",
       "              max_delta_step=0, max_depth=6, min_child_weight=1, missing=nan,\n",
       "              monotone_constraints='()', n_estimators=100, n_jobs=4,\n",
       "              num_parallel_tree=1, predictor='auto', random_state=0,\n",
       "              reg_alpha=0, reg_lambda=1, scale_pos_weight=1, subsample=1,\n",
       "              tree_method='exact', validate_parameters=1, verbosity=None)"
      ]
     },
     "execution_count": 10,
     "metadata": {},
     "output_type": "execute_result"
    }
   ],
   "source": [
    "model_1 = XGBClassifier()\n",
    " \n",
    "# fit the model with the training data\n",
    "model_1.fit(X_train_1,y_train_1)"
   ]
  },
  {
   "cell_type": "code",
   "execution_count": 11,
   "id": "9367ffe7",
   "metadata": {
    "papermill": {
     "duration": 0.146425,
     "end_time": "2021-11-23T19:40:43.349686",
     "exception": false,
     "start_time": "2021-11-23T19:40:43.203261",
     "status": "completed"
    },
    "tags": []
   },
   "outputs": [],
   "source": [
    "preds_1 = model_1.predict(X_valid_1)"
   ]
  },
  {
   "cell_type": "code",
   "execution_count": 12,
   "id": "6212e02f",
   "metadata": {
    "papermill": {
     "duration": 0.0711,
     "end_time": "2021-11-23T19:40:43.483225",
     "exception": false,
     "start_time": "2021-11-23T19:40:43.412125",
     "status": "completed"
    },
    "tags": []
   },
   "outputs": [
    {
     "data": {
      "text/plain": [
       "0"
      ]
     },
     "execution_count": 12,
     "metadata": {},
     "output_type": "execute_result"
    }
   ],
   "source": [
    "X_train_1.isnull().sum()\n",
    "np.isinf(X_train_1).values.sum()"
   ]
  },
  {
   "cell_type": "code",
   "execution_count": 13,
   "id": "8573da26",
   "metadata": {
    "papermill": {
     "duration": 80.687989,
     "end_time": "2021-11-23T19:42:04.231713",
     "exception": false,
     "start_time": "2021-11-23T19:40:43.543724",
     "status": "completed"
    },
    "tags": []
   },
   "outputs": [
    {
     "name": "stderr",
     "output_type": "stream",
     "text": [
      "ntree_limit is deprecated, use `iteration_range` or model slicing instead.\n"
     ]
    }
   ],
   "source": [
    "explainer = shap.Explainer(model_1)\n",
    "shap_values = explainer(X_train_1)"
   ]
  },
  {
   "cell_type": "code",
   "execution_count": null,
   "id": "88047ed1",
   "metadata": {
    "papermill": {
     "duration": 4.697781,
     "end_time": "2021-11-23T19:42:09.049589",
     "exception": false,
     "start_time": "2021-11-23T19:42:04.351808",
     "status": "completed"
    },
    "tags": []
   },
   "outputs": [
    {
     "name": "stderr",
     "output_type": "stream",
     "text": [
      "ERROR:root:Internal Python error in the inspect module.\n",
      "Below is the traceback from this internal error.\n",
      "\n"
     ]
    },
    {
     "name": "stdout",
     "output_type": "stream",
     "text": [
      "Traceback (most recent call last):\n",
      "  File \"/Users/mahdikleit/opt/anaconda3/lib/python3.8/site-packages/IPython/core/interactiveshell.py\", line 3437, in run_code\n",
      "    exec(code_obj, self.user_global_ns, self.user_ns)\n",
      "  File \"<ipython-input-14-078e3d2a6eb1>\", line 1, in <module>\n",
      "    shap.summary_plot(shap_values, X_train_1)\n",
      "  File \"/Users/mahdikleit/opt/anaconda3/lib/python3.8/site-packages/comet_ml/monkey_patching.py\", line 318, in wrapper\n",
      "    new_return_value = callback(\n",
      "  File \"/Users/mahdikleit/opt/anaconda3/lib/python3.8/site-packages/comet_ml/loggers/shap_logger.py\", line 54, in after\n",
      "    experiment._log_figure(\n",
      "  File \"/Users/mahdikleit/opt/anaconda3/lib/python3.8/site-packages/comet_ml/experiment.py\", line 1702, in _log_figure\n",
      "    upload_message = processor.process()\n",
      "  File \"/Users/mahdikleit/opt/anaconda3/lib/python3.8/site-packages/comet_ml/file_uploader.py\", line 292, in process\n",
      "    return self.process_upload_to_be_converted(user_input)\n",
      "  File \"/Users/mahdikleit/opt/anaconda3/lib/python3.8/site-packages/comet_ml/file_uploader.py\", line 573, in process_upload_to_be_converted\n",
      "    filename = save_matplotlib_figure(user_input)\n",
      "  File \"/Users/mahdikleit/opt/anaconda3/lib/python3.8/site-packages/comet_ml/file_uploader.py\", line 138, in save_matplotlib_figure\n",
      "    figure.savefig(tmpfile, format=\"svg\")\n",
      "  File \"/Users/mahdikleit/opt/anaconda3/lib/python3.8/site-packages/matplotlib/figure.py\", line 2311, in savefig\n",
      "    self.canvas.print_figure(fname, **kwargs)\n",
      "  File \"/Users/mahdikleit/opt/anaconda3/lib/python3.8/site-packages/matplotlib/backend_bases.py\", line 2150, in print_figure\n",
      "    canvas = self._get_output_canvas(backend, format)\n",
      "  File \"/Users/mahdikleit/opt/anaconda3/lib/python3.8/site-packages/matplotlib/backend_bases.py\", line 2075, in _get_output_canvas\n",
      "    canvas_class = get_registered_canvas_class(fmt)\n",
      "  File \"/Users/mahdikleit/opt/anaconda3/lib/python3.8/site-packages/matplotlib/backend_bases.py\", line 116, in get_registered_canvas_class\n",
      "    backend_class = importlib.import_module(backend_class).FigureCanvas\n",
      "  File \"/Users/mahdikleit/opt/anaconda3/lib/python3.8/importlib/__init__.py\", line 127, in import_module\n",
      "    return _bootstrap._gcd_import(name[level:], package, level)\n",
      "  File \"<frozen importlib._bootstrap>\", line 1014, in _gcd_import\n",
      "  File \"<frozen importlib._bootstrap>\", line 991, in _find_and_load\n",
      "  File \"<frozen importlib._bootstrap>\", line 971, in _find_and_load_unlocked\n",
      "  File \"<frozen importlib._bootstrap>\", line 914, in _find_spec\n",
      "  File \"<frozen importlib._bootstrap_external>\", line 1342, in find_spec\n",
      "  File \"<frozen importlib._bootstrap_external>\", line 1314, in _get_spec\n",
      "  File \"<frozen importlib._bootstrap_external>\", line 1469, in find_spec\n",
      "  File \"<frozen importlib._bootstrap_external>\", line 101, in _path_isfile\n",
      "  File \"<frozen importlib._bootstrap_external>\", line 93, in _path_is_mode_type\n",
      "  File \"<frozen importlib._bootstrap_external>\", line 87, in _path_stat\n",
      "KeyboardInterrupt\n",
      "\n",
      "During handling of the above exception, another exception occurred:\n",
      "\n",
      "Traceback (most recent call last):\n",
      "  File \"/Users/mahdikleit/opt/anaconda3/lib/python3.8/site-packages/IPython/core/interactiveshell.py\", line 2061, in showtraceback\n",
      "    stb = value._render_traceback_()\n",
      "AttributeError: 'KeyboardInterrupt' object has no attribute '_render_traceback_'\n",
      "\n",
      "During handling of the above exception, another exception occurred:\n",
      "\n",
      "Traceback (most recent call last):\n",
      "  File \"/Users/mahdikleit/opt/anaconda3/lib/python3.8/site-packages/IPython/core/ultratb.py\", line 1101, in get_records\n",
      "    return _fixed_getinnerframes(etb, number_of_lines_of_context, tb_offset)\n",
      "  File \"/Users/mahdikleit/opt/anaconda3/lib/python3.8/site-packages/IPython/core/ultratb.py\", line 248, in wrapped\n",
      "    return f(*args, **kwargs)\n",
      "  File \"/Users/mahdikleit/opt/anaconda3/lib/python3.8/site-packages/IPython/core/ultratb.py\", line 281, in _fixed_getinnerframes\n",
      "    records = fix_frame_records_filenames(inspect.getinnerframes(etb, context))\n",
      "  File \"/Users/mahdikleit/opt/anaconda3/lib/python3.8/inspect.py\", line 1515, in getinnerframes\n",
      "    frameinfo = (tb.tb_frame,) + getframeinfo(tb, context)\n",
      "  File \"/Users/mahdikleit/opt/anaconda3/lib/python3.8/inspect.py\", line 1473, in getframeinfo\n",
      "    filename = getsourcefile(frame) or getfile(frame)\n",
      "  File \"/Users/mahdikleit/opt/anaconda3/lib/python3.8/inspect.py\", line 708, in getsourcefile\n",
      "    if getattr(getmodule(object, filename), '__loader__', None) is not None:\n",
      "  File \"/Users/mahdikleit/opt/anaconda3/lib/python3.8/inspect.py\", line 754, in getmodule\n",
      "    os.path.realpath(f)] = module.__name__\n",
      "  File \"/Users/mahdikleit/opt/anaconda3/lib/python3.8/posixpath.py\", line 391, in realpath\n",
      "    path, ok = _joinrealpath(filename[:0], filename, {})\n",
      "  File \"/Users/mahdikleit/opt/anaconda3/lib/python3.8/posixpath.py\", line 425, in _joinrealpath\n",
      "    if not islink(newpath):\n",
      "  File \"/Users/mahdikleit/opt/anaconda3/lib/python3.8/posixpath.py\", line 167, in islink\n",
      "    st = os.lstat(path)\n",
      "KeyboardInterrupt\n"
     ]
    },
    {
     "ename": "TypeError",
     "evalue": "object of type 'NoneType' has no len()",
     "output_type": "error",
     "traceback": [
      "\u001b[0;31m---------------------------------------------------------------------------\u001b[0m",
      "\u001b[0;31mKeyboardInterrupt\u001b[0m                         Traceback (most recent call last)",
      "    \u001b[0;31m[... skipping hidden 1 frame]\u001b[0m\n",
      "\u001b[0;32m<ipython-input-14-078e3d2a6eb1>\u001b[0m in \u001b[0;36m<module>\u001b[0;34m\u001b[0m\n\u001b[0;32m----> 1\u001b[0;31m \u001b[0mshap\u001b[0m\u001b[0;34m.\u001b[0m\u001b[0msummary_plot\u001b[0m\u001b[0;34m(\u001b[0m\u001b[0mshap_values\u001b[0m\u001b[0;34m,\u001b[0m \u001b[0mX_train_1\u001b[0m\u001b[0;34m)\u001b[0m\u001b[0;34m\u001b[0m\u001b[0;34m\u001b[0m\u001b[0m\n\u001b[0m",
      "\u001b[0;32m~/opt/anaconda3/lib/python3.8/site-packages/comet_ml/monkey_patching.py\u001b[0m in \u001b[0;36mwrapper\u001b[0;34m(*args, **kwargs)\u001b[0m\n\u001b[1;32m    317\u001b[0m                 \u001b[0;32mtry\u001b[0m\u001b[0;34m:\u001b[0m\u001b[0;34m\u001b[0m\u001b[0;34m\u001b[0m\u001b[0m\n\u001b[0;32m--> 318\u001b[0;31m                     new_return_value = callback(\n\u001b[0m\u001b[1;32m    319\u001b[0m                         \u001b[0mexperiment\u001b[0m\u001b[0;34m,\u001b[0m \u001b[0moriginal\u001b[0m\u001b[0;34m,\u001b[0m \u001b[0mreturn_value\u001b[0m\u001b[0;34m,\u001b[0m \u001b[0;34m*\u001b[0m\u001b[0margs\u001b[0m\u001b[0;34m,\u001b[0m \u001b[0;34m**\u001b[0m\u001b[0mkwargs\u001b[0m\u001b[0;34m\u001b[0m\u001b[0;34m\u001b[0m\u001b[0m\n",
      "\u001b[0;32m~/opt/anaconda3/lib/python3.8/site-packages/comet_ml/loggers/shap_logger.py\u001b[0m in \u001b[0;36mafter\u001b[0;34m(self, experiment, original, results, *args, **kwargs)\u001b[0m\n\u001b[1;32m     53\u001b[0m             \u001b[0mexperiment\u001b[0m\u001b[0;34m.\u001b[0m\u001b[0m_storage\u001b[0m\u001b[0;34m[\u001b[0m\u001b[0;34m\"shap\"\u001b[0m\u001b[0;34m]\u001b[0m\u001b[0;34m[\u001b[0m\u001b[0;34m\"counter\"\u001b[0m\u001b[0;34m]\u001b[0m \u001b[0;34m+=\u001b[0m \u001b[0;36m1\u001b[0m\u001b[0;34m\u001b[0m\u001b[0;34m\u001b[0m\u001b[0m\n\u001b[0;32m---> 54\u001b[0;31m             experiment._log_figure(\n\u001b[0m\u001b[1;32m     55\u001b[0m                 \u001b[0mfigure_name\u001b[0m\u001b[0;34m=\u001b[0m\u001b[0;34m\"shap-%s-%s\"\u001b[0m\u001b[0;34m\u001b[0m\u001b[0;34m\u001b[0m\u001b[0m\n",
      "\u001b[0;32m~/opt/anaconda3/lib/python3.8/site-packages/comet_ml/experiment.py\u001b[0m in \u001b[0;36m_log_figure\u001b[0;34m(self, figure_name, figure, overwrite, step, figure_type, framework)\u001b[0m\n\u001b[1;32m   1701\u001b[0m         )\n\u001b[0;32m-> 1702\u001b[0;31m         \u001b[0mupload_message\u001b[0m \u001b[0;34m=\u001b[0m \u001b[0mprocessor\u001b[0m\u001b[0;34m.\u001b[0m\u001b[0mprocess\u001b[0m\u001b[0;34m(\u001b[0m\u001b[0;34m)\u001b[0m\u001b[0;34m\u001b[0m\u001b[0;34m\u001b[0m\u001b[0m\n\u001b[0m\u001b[1;32m   1703\u001b[0m \u001b[0;34m\u001b[0m\u001b[0m\n",
      "\u001b[0;32m~/opt/anaconda3/lib/python3.8/site-packages/comet_ml/file_uploader.py\u001b[0m in \u001b[0;36mprocess\u001b[0;34m(self)\u001b[0m\n\u001b[1;32m    291\u001b[0m         \u001b[0;32melse\u001b[0m\u001b[0;34m:\u001b[0m\u001b[0;34m\u001b[0m\u001b[0;34m\u001b[0m\u001b[0m\n\u001b[0;32m--> 292\u001b[0;31m             \u001b[0;32mreturn\u001b[0m \u001b[0mself\u001b[0m\u001b[0;34m.\u001b[0m\u001b[0mprocess_upload_to_be_converted\u001b[0m\u001b[0;34m(\u001b[0m\u001b[0muser_input\u001b[0m\u001b[0;34m)\u001b[0m\u001b[0;34m\u001b[0m\u001b[0;34m\u001b[0m\u001b[0m\n\u001b[0m\u001b[1;32m    293\u001b[0m \u001b[0;34m\u001b[0m\u001b[0m\n",
      "\u001b[0;32m~/opt/anaconda3/lib/python3.8/site-packages/comet_ml/file_uploader.py\u001b[0m in \u001b[0;36mprocess_upload_to_be_converted\u001b[0;34m(self, user_input)\u001b[0m\n\u001b[1;32m    572\u001b[0m             \u001b[0;32mtry\u001b[0m\u001b[0;34m:\u001b[0m\u001b[0;34m\u001b[0m\u001b[0;34m\u001b[0m\u001b[0m\n\u001b[0;32m--> 573\u001b[0;31m                 \u001b[0mfilename\u001b[0m \u001b[0;34m=\u001b[0m \u001b[0msave_matplotlib_figure\u001b[0m\u001b[0;34m(\u001b[0m\u001b[0muser_input\u001b[0m\u001b[0;34m)\u001b[0m\u001b[0;34m\u001b[0m\u001b[0;34m\u001b[0m\u001b[0m\n\u001b[0m\u001b[1;32m    574\u001b[0m             \u001b[0;32mexcept\u001b[0m \u001b[0mException\u001b[0m\u001b[0;34m:\u001b[0m\u001b[0;34m\u001b[0m\u001b[0;34m\u001b[0m\u001b[0m\n",
      "\u001b[0;32m~/opt/anaconda3/lib/python3.8/site-packages/comet_ml/file_uploader.py\u001b[0m in \u001b[0;36msave_matplotlib_figure\u001b[0;34m(figure)\u001b[0m\n\u001b[1;32m    137\u001b[0m         \u001b[0mtmpfile\u001b[0m \u001b[0;34m=\u001b[0m \u001b[0mtempfile\u001b[0m\u001b[0;34m.\u001b[0m\u001b[0mNamedTemporaryFile\u001b[0m\u001b[0;34m(\u001b[0m\u001b[0msuffix\u001b[0m\u001b[0;34m=\u001b[0m\u001b[0;34m\".svg\"\u001b[0m\u001b[0;34m,\u001b[0m \u001b[0mdelete\u001b[0m\u001b[0;34m=\u001b[0m\u001b[0;32mFalse\u001b[0m\u001b[0;34m)\u001b[0m\u001b[0;34m\u001b[0m\u001b[0;34m\u001b[0m\u001b[0m\n\u001b[0;32m--> 138\u001b[0;31m         \u001b[0mfigure\u001b[0m\u001b[0;34m.\u001b[0m\u001b[0msavefig\u001b[0m\u001b[0;34m(\u001b[0m\u001b[0mtmpfile\u001b[0m\u001b[0;34m,\u001b[0m \u001b[0mformat\u001b[0m\u001b[0;34m=\u001b[0m\u001b[0;34m\"svg\"\u001b[0m\u001b[0;34m)\u001b[0m\u001b[0;34m\u001b[0m\u001b[0;34m\u001b[0m\u001b[0m\n\u001b[0m\u001b[1;32m    139\u001b[0m         \u001b[0mtmpfile\u001b[0m\u001b[0;34m.\u001b[0m\u001b[0mflush\u001b[0m\u001b[0;34m(\u001b[0m\u001b[0;34m)\u001b[0m\u001b[0;34m\u001b[0m\u001b[0;34m\u001b[0m\u001b[0m\n",
      "\u001b[0;32m~/opt/anaconda3/lib/python3.8/site-packages/matplotlib/figure.py\u001b[0m in \u001b[0;36msavefig\u001b[0;34m(self, fname, transparent, **kwargs)\u001b[0m\n\u001b[1;32m   2310\u001b[0m \u001b[0;34m\u001b[0m\u001b[0m\n\u001b[0;32m-> 2311\u001b[0;31m         \u001b[0mself\u001b[0m\u001b[0;34m.\u001b[0m\u001b[0mcanvas\u001b[0m\u001b[0;34m.\u001b[0m\u001b[0mprint_figure\u001b[0m\u001b[0;34m(\u001b[0m\u001b[0mfname\u001b[0m\u001b[0;34m,\u001b[0m \u001b[0;34m**\u001b[0m\u001b[0mkwargs\u001b[0m\u001b[0;34m)\u001b[0m\u001b[0;34m\u001b[0m\u001b[0;34m\u001b[0m\u001b[0m\n\u001b[0m\u001b[1;32m   2312\u001b[0m \u001b[0;34m\u001b[0m\u001b[0m\n",
      "\u001b[0;32m~/opt/anaconda3/lib/python3.8/site-packages/matplotlib/backend_bases.py\u001b[0m in \u001b[0;36mprint_figure\u001b[0;34m(self, filename, dpi, facecolor, edgecolor, orientation, format, bbox_inches, pad_inches, bbox_extra_artists, backend, **kwargs)\u001b[0m\n\u001b[1;32m   2149\u001b[0m         \u001b[0;31m# get canvas object and print method for format\u001b[0m\u001b[0;34m\u001b[0m\u001b[0;34m\u001b[0m\u001b[0;34m\u001b[0m\u001b[0m\n\u001b[0;32m-> 2150\u001b[0;31m         \u001b[0mcanvas\u001b[0m \u001b[0;34m=\u001b[0m \u001b[0mself\u001b[0m\u001b[0;34m.\u001b[0m\u001b[0m_get_output_canvas\u001b[0m\u001b[0;34m(\u001b[0m\u001b[0mbackend\u001b[0m\u001b[0;34m,\u001b[0m \u001b[0mformat\u001b[0m\u001b[0;34m)\u001b[0m\u001b[0;34m\u001b[0m\u001b[0;34m\u001b[0m\u001b[0m\n\u001b[0m\u001b[1;32m   2151\u001b[0m         \u001b[0mprint_method\u001b[0m \u001b[0;34m=\u001b[0m \u001b[0mgetattr\u001b[0m\u001b[0;34m(\u001b[0m\u001b[0mcanvas\u001b[0m\u001b[0;34m,\u001b[0m \u001b[0;34m'print_%s'\u001b[0m \u001b[0;34m%\u001b[0m \u001b[0mformat\u001b[0m\u001b[0;34m)\u001b[0m\u001b[0;34m\u001b[0m\u001b[0;34m\u001b[0m\u001b[0m\n",
      "\u001b[0;32m~/opt/anaconda3/lib/python3.8/site-packages/matplotlib/backend_bases.py\u001b[0m in \u001b[0;36m_get_output_canvas\u001b[0;34m(self, backend, fmt)\u001b[0m\n\u001b[1;32m   2074\u001b[0m             \u001b[0;31m# Return a default canvas for the requested format, if it exists.\u001b[0m\u001b[0;34m\u001b[0m\u001b[0;34m\u001b[0m\u001b[0;34m\u001b[0m\u001b[0m\n\u001b[0;32m-> 2075\u001b[0;31m             \u001b[0mcanvas_class\u001b[0m \u001b[0;34m=\u001b[0m \u001b[0mget_registered_canvas_class\u001b[0m\u001b[0;34m(\u001b[0m\u001b[0mfmt\u001b[0m\u001b[0;34m)\u001b[0m\u001b[0;34m\u001b[0m\u001b[0;34m\u001b[0m\u001b[0m\n\u001b[0m\u001b[1;32m   2076\u001b[0m         \u001b[0;32mif\u001b[0m \u001b[0mcanvas_class\u001b[0m\u001b[0;34m:\u001b[0m\u001b[0;34m\u001b[0m\u001b[0;34m\u001b[0m\u001b[0m\n",
      "\u001b[0;32m~/opt/anaconda3/lib/python3.8/site-packages/matplotlib/backend_bases.py\u001b[0m in \u001b[0;36mget_registered_canvas_class\u001b[0;34m(format)\u001b[0m\n\u001b[1;32m    115\u001b[0m     \u001b[0;32mif\u001b[0m \u001b[0misinstance\u001b[0m\u001b[0;34m(\u001b[0m\u001b[0mbackend_class\u001b[0m\u001b[0;34m,\u001b[0m \u001b[0mstr\u001b[0m\u001b[0;34m)\u001b[0m\u001b[0;34m:\u001b[0m\u001b[0;34m\u001b[0m\u001b[0;34m\u001b[0m\u001b[0m\n\u001b[0;32m--> 116\u001b[0;31m         \u001b[0mbackend_class\u001b[0m \u001b[0;34m=\u001b[0m \u001b[0mimportlib\u001b[0m\u001b[0;34m.\u001b[0m\u001b[0mimport_module\u001b[0m\u001b[0;34m(\u001b[0m\u001b[0mbackend_class\u001b[0m\u001b[0;34m)\u001b[0m\u001b[0;34m.\u001b[0m\u001b[0mFigureCanvas\u001b[0m\u001b[0;34m\u001b[0m\u001b[0;34m\u001b[0m\u001b[0m\n\u001b[0m\u001b[1;32m    117\u001b[0m         \u001b[0m_default_backends\u001b[0m\u001b[0;34m[\u001b[0m\u001b[0mformat\u001b[0m\u001b[0;34m]\u001b[0m \u001b[0;34m=\u001b[0m \u001b[0mbackend_class\u001b[0m\u001b[0;34m\u001b[0m\u001b[0;34m\u001b[0m\u001b[0m\n",
      "\u001b[0;32m~/opt/anaconda3/lib/python3.8/importlib/__init__.py\u001b[0m in \u001b[0;36mimport_module\u001b[0;34m(name, package)\u001b[0m\n\u001b[1;32m    126\u001b[0m             \u001b[0mlevel\u001b[0m \u001b[0;34m+=\u001b[0m \u001b[0;36m1\u001b[0m\u001b[0;34m\u001b[0m\u001b[0;34m\u001b[0m\u001b[0m\n\u001b[0;32m--> 127\u001b[0;31m     \u001b[0;32mreturn\u001b[0m \u001b[0m_bootstrap\u001b[0m\u001b[0;34m.\u001b[0m\u001b[0m_gcd_import\u001b[0m\u001b[0;34m(\u001b[0m\u001b[0mname\u001b[0m\u001b[0;34m[\u001b[0m\u001b[0mlevel\u001b[0m\u001b[0;34m:\u001b[0m\u001b[0;34m]\u001b[0m\u001b[0;34m,\u001b[0m \u001b[0mpackage\u001b[0m\u001b[0;34m,\u001b[0m \u001b[0mlevel\u001b[0m\u001b[0;34m)\u001b[0m\u001b[0;34m\u001b[0m\u001b[0;34m\u001b[0m\u001b[0m\n\u001b[0m\u001b[1;32m    128\u001b[0m \u001b[0;34m\u001b[0m\u001b[0m\n",
      "\u001b[0;32m~/opt/anaconda3/lib/python3.8/importlib/_bootstrap.py\u001b[0m in \u001b[0;36m_gcd_import\u001b[0;34m(name, package, level)\u001b[0m\n",
      "\u001b[0;32m~/opt/anaconda3/lib/python3.8/importlib/_bootstrap.py\u001b[0m in \u001b[0;36m_find_and_load\u001b[0;34m(name, import_)\u001b[0m\n",
      "\u001b[0;32m~/opt/anaconda3/lib/python3.8/importlib/_bootstrap.py\u001b[0m in \u001b[0;36m_find_and_load_unlocked\u001b[0;34m(name, import_)\u001b[0m\n",
      "\u001b[0;32m~/opt/anaconda3/lib/python3.8/importlib/_bootstrap.py\u001b[0m in \u001b[0;36m_find_spec\u001b[0;34m(name, path, target)\u001b[0m\n",
      "\u001b[0;32m~/opt/anaconda3/lib/python3.8/importlib/_bootstrap_external.py\u001b[0m in \u001b[0;36mfind_spec\u001b[0;34m(cls, fullname, path, target)\u001b[0m\n",
      "\u001b[0;32m~/opt/anaconda3/lib/python3.8/importlib/_bootstrap_external.py\u001b[0m in \u001b[0;36m_get_spec\u001b[0;34m(cls, fullname, path, target)\u001b[0m\n",
      "\u001b[0;32m~/opt/anaconda3/lib/python3.8/importlib/_bootstrap_external.py\u001b[0m in \u001b[0;36mfind_spec\u001b[0;34m(self, fullname, target)\u001b[0m\n",
      "\u001b[0;32m~/opt/anaconda3/lib/python3.8/importlib/_bootstrap_external.py\u001b[0m in \u001b[0;36m_path_isfile\u001b[0;34m(path)\u001b[0m\n",
      "\u001b[0;32m~/opt/anaconda3/lib/python3.8/importlib/_bootstrap_external.py\u001b[0m in \u001b[0;36m_path_is_mode_type\u001b[0;34m(path, mode)\u001b[0m\n",
      "\u001b[0;32m~/opt/anaconda3/lib/python3.8/importlib/_bootstrap_external.py\u001b[0m in \u001b[0;36m_path_stat\u001b[0;34m(path)\u001b[0m\n",
      "\u001b[0;31mKeyboardInterrupt\u001b[0m: ",
      "\nDuring handling of the above exception, another exception occurred:\n",
      "\u001b[0;31mAttributeError\u001b[0m                            Traceback (most recent call last)",
      "\u001b[0;32m~/opt/anaconda3/lib/python3.8/site-packages/IPython/core/interactiveshell.py\u001b[0m in \u001b[0;36mshowtraceback\u001b[0;34m(self, exc_tuple, filename, tb_offset, exception_only, running_compiled_code)\u001b[0m\n\u001b[1;32m   2060\u001b[0m                         \u001b[0;31m# in the engines. This should return a list of strings.\u001b[0m\u001b[0;34m\u001b[0m\u001b[0;34m\u001b[0m\u001b[0;34m\u001b[0m\u001b[0m\n\u001b[0;32m-> 2061\u001b[0;31m                         \u001b[0mstb\u001b[0m \u001b[0;34m=\u001b[0m \u001b[0mvalue\u001b[0m\u001b[0;34m.\u001b[0m\u001b[0m_render_traceback_\u001b[0m\u001b[0;34m(\u001b[0m\u001b[0;34m)\u001b[0m\u001b[0;34m\u001b[0m\u001b[0;34m\u001b[0m\u001b[0m\n\u001b[0m\u001b[1;32m   2062\u001b[0m                     \u001b[0;32mexcept\u001b[0m \u001b[0mException\u001b[0m\u001b[0;34m:\u001b[0m\u001b[0;34m\u001b[0m\u001b[0;34m\u001b[0m\u001b[0m\n",
      "\u001b[0;31mAttributeError\u001b[0m: 'KeyboardInterrupt' object has no attribute '_render_traceback_'",
      "\nDuring handling of the above exception, another exception occurred:\n",
      "\u001b[0;31mTypeError\u001b[0m                                 Traceback (most recent call last)",
      "    \u001b[0;31m[... skipping hidden 1 frame]\u001b[0m\n",
      "\u001b[0;32m~/opt/anaconda3/lib/python3.8/site-packages/IPython/core/interactiveshell.py\u001b[0m in \u001b[0;36mshowtraceback\u001b[0;34m(self, exc_tuple, filename, tb_offset, exception_only, running_compiled_code)\u001b[0m\n\u001b[1;32m   2061\u001b[0m                         \u001b[0mstb\u001b[0m \u001b[0;34m=\u001b[0m \u001b[0mvalue\u001b[0m\u001b[0;34m.\u001b[0m\u001b[0m_render_traceback_\u001b[0m\u001b[0;34m(\u001b[0m\u001b[0;34m)\u001b[0m\u001b[0;34m\u001b[0m\u001b[0;34m\u001b[0m\u001b[0m\n\u001b[1;32m   2062\u001b[0m                     \u001b[0;32mexcept\u001b[0m \u001b[0mException\u001b[0m\u001b[0;34m:\u001b[0m\u001b[0;34m\u001b[0m\u001b[0;34m\u001b[0m\u001b[0m\n\u001b[0;32m-> 2063\u001b[0;31m                         stb = self.InteractiveTB.structured_traceback(etype,\n\u001b[0m\u001b[1;32m   2064\u001b[0m                                             value, tb, tb_offset=tb_offset)\n\u001b[1;32m   2065\u001b[0m \u001b[0;34m\u001b[0m\u001b[0m\n",
      "\u001b[0;32m~/opt/anaconda3/lib/python3.8/site-packages/IPython/core/ultratb.py\u001b[0m in \u001b[0;36mstructured_traceback\u001b[0;34m(self, etype, value, tb, tb_offset, number_of_lines_of_context)\u001b[0m\n\u001b[1;32m   1365\u001b[0m         \u001b[0;32melse\u001b[0m\u001b[0;34m:\u001b[0m\u001b[0;34m\u001b[0m\u001b[0;34m\u001b[0m\u001b[0m\n\u001b[1;32m   1366\u001b[0m             \u001b[0mself\u001b[0m\u001b[0;34m.\u001b[0m\u001b[0mtb\u001b[0m \u001b[0;34m=\u001b[0m \u001b[0mtb\u001b[0m\u001b[0;34m\u001b[0m\u001b[0;34m\u001b[0m\u001b[0m\n\u001b[0;32m-> 1367\u001b[0;31m         return FormattedTB.structured_traceback(\n\u001b[0m\u001b[1;32m   1368\u001b[0m             self, etype, value, tb, tb_offset, number_of_lines_of_context)\n\u001b[1;32m   1369\u001b[0m \u001b[0;34m\u001b[0m\u001b[0m\n",
      "\u001b[0;32m~/opt/anaconda3/lib/python3.8/site-packages/IPython/core/ultratb.py\u001b[0m in \u001b[0;36mstructured_traceback\u001b[0;34m(self, etype, value, tb, tb_offset, number_of_lines_of_context)\u001b[0m\n\u001b[1;32m   1265\u001b[0m         \u001b[0;32mif\u001b[0m \u001b[0mmode\u001b[0m \u001b[0;32min\u001b[0m \u001b[0mself\u001b[0m\u001b[0;34m.\u001b[0m\u001b[0mverbose_modes\u001b[0m\u001b[0;34m:\u001b[0m\u001b[0;34m\u001b[0m\u001b[0;34m\u001b[0m\u001b[0m\n\u001b[1;32m   1266\u001b[0m             \u001b[0;31m# Verbose modes need a full traceback\u001b[0m\u001b[0;34m\u001b[0m\u001b[0;34m\u001b[0m\u001b[0;34m\u001b[0m\u001b[0m\n\u001b[0;32m-> 1267\u001b[0;31m             return VerboseTB.structured_traceback(\n\u001b[0m\u001b[1;32m   1268\u001b[0m                 \u001b[0mself\u001b[0m\u001b[0;34m,\u001b[0m \u001b[0metype\u001b[0m\u001b[0;34m,\u001b[0m \u001b[0mvalue\u001b[0m\u001b[0;34m,\u001b[0m \u001b[0mtb\u001b[0m\u001b[0;34m,\u001b[0m \u001b[0mtb_offset\u001b[0m\u001b[0;34m,\u001b[0m \u001b[0mnumber_of_lines_of_context\u001b[0m\u001b[0;34m\u001b[0m\u001b[0;34m\u001b[0m\u001b[0m\n\u001b[1;32m   1269\u001b[0m             )\n",
      "\u001b[0;32m~/opt/anaconda3/lib/python3.8/site-packages/IPython/core/ultratb.py\u001b[0m in \u001b[0;36mstructured_traceback\u001b[0;34m(self, etype, evalue, etb, tb_offset, number_of_lines_of_context)\u001b[0m\n\u001b[1;32m   1122\u001b[0m         \u001b[0;34m\"\"\"Return a nice text document describing the traceback.\"\"\"\u001b[0m\u001b[0;34m\u001b[0m\u001b[0;34m\u001b[0m\u001b[0m\n\u001b[1;32m   1123\u001b[0m \u001b[0;34m\u001b[0m\u001b[0m\n\u001b[0;32m-> 1124\u001b[0;31m         formatted_exception = self.format_exception_as_a_whole(etype, evalue, etb, number_of_lines_of_context,\n\u001b[0m\u001b[1;32m   1125\u001b[0m                                                                tb_offset)\n\u001b[1;32m   1126\u001b[0m \u001b[0;34m\u001b[0m\u001b[0m\n",
      "\u001b[0;32m~/opt/anaconda3/lib/python3.8/site-packages/IPython/core/ultratb.py\u001b[0m in \u001b[0;36mformat_exception_as_a_whole\u001b[0;34m(self, etype, evalue, etb, number_of_lines_of_context, tb_offset)\u001b[0m\n\u001b[1;32m   1080\u001b[0m \u001b[0;34m\u001b[0m\u001b[0m\n\u001b[1;32m   1081\u001b[0m \u001b[0;34m\u001b[0m\u001b[0m\n\u001b[0;32m-> 1082\u001b[0;31m         \u001b[0mlast_unique\u001b[0m\u001b[0;34m,\u001b[0m \u001b[0mrecursion_repeat\u001b[0m \u001b[0;34m=\u001b[0m \u001b[0mfind_recursion\u001b[0m\u001b[0;34m(\u001b[0m\u001b[0morig_etype\u001b[0m\u001b[0;34m,\u001b[0m \u001b[0mevalue\u001b[0m\u001b[0;34m,\u001b[0m \u001b[0mrecords\u001b[0m\u001b[0;34m)\u001b[0m\u001b[0;34m\u001b[0m\u001b[0;34m\u001b[0m\u001b[0m\n\u001b[0m\u001b[1;32m   1083\u001b[0m \u001b[0;34m\u001b[0m\u001b[0m\n\u001b[1;32m   1084\u001b[0m         \u001b[0mframes\u001b[0m \u001b[0;34m=\u001b[0m \u001b[0mself\u001b[0m\u001b[0;34m.\u001b[0m\u001b[0mformat_records\u001b[0m\u001b[0;34m(\u001b[0m\u001b[0mrecords\u001b[0m\u001b[0;34m,\u001b[0m \u001b[0mlast_unique\u001b[0m\u001b[0;34m,\u001b[0m \u001b[0mrecursion_repeat\u001b[0m\u001b[0;34m)\u001b[0m\u001b[0;34m\u001b[0m\u001b[0;34m\u001b[0m\u001b[0m\n",
      "\u001b[0;32m~/opt/anaconda3/lib/python3.8/site-packages/IPython/core/ultratb.py\u001b[0m in \u001b[0;36mfind_recursion\u001b[0;34m(etype, value, records)\u001b[0m\n\u001b[1;32m    380\u001b[0m     \u001b[0;31m# first frame (from in to out) that looks different.\u001b[0m\u001b[0;34m\u001b[0m\u001b[0;34m\u001b[0m\u001b[0;34m\u001b[0m\u001b[0m\n\u001b[1;32m    381\u001b[0m     \u001b[0;32mif\u001b[0m \u001b[0;32mnot\u001b[0m \u001b[0mis_recursion_error\u001b[0m\u001b[0;34m(\u001b[0m\u001b[0metype\u001b[0m\u001b[0;34m,\u001b[0m \u001b[0mvalue\u001b[0m\u001b[0;34m,\u001b[0m \u001b[0mrecords\u001b[0m\u001b[0;34m)\u001b[0m\u001b[0;34m:\u001b[0m\u001b[0;34m\u001b[0m\u001b[0;34m\u001b[0m\u001b[0m\n\u001b[0;32m--> 382\u001b[0;31m         \u001b[0;32mreturn\u001b[0m \u001b[0mlen\u001b[0m\u001b[0;34m(\u001b[0m\u001b[0mrecords\u001b[0m\u001b[0;34m)\u001b[0m\u001b[0;34m,\u001b[0m \u001b[0;36m0\u001b[0m\u001b[0;34m\u001b[0m\u001b[0;34m\u001b[0m\u001b[0m\n\u001b[0m\u001b[1;32m    383\u001b[0m \u001b[0;34m\u001b[0m\u001b[0m\n\u001b[1;32m    384\u001b[0m     \u001b[0;31m# Select filename, lineno, func_name to track frames with\u001b[0m\u001b[0;34m\u001b[0m\u001b[0;34m\u001b[0m\u001b[0;34m\u001b[0m\u001b[0m\n",
      "\u001b[0;31mTypeError\u001b[0m: object of type 'NoneType' has no len()"
     ]
    }
   ],
   "source": [
    "shap.summary_plot(shap_values, X_train_1)"
   ]
  },
  {
   "cell_type": "markdown",
   "id": "3f24dfba",
   "metadata": {
    "papermill": {
     "duration": 0.062098,
     "end_time": "2021-11-23T19:42:09.174467",
     "exception": false,
     "start_time": "2021-11-23T19:42:09.112369",
     "status": "completed"
    },
    "tags": []
   },
   "source": [
    "### Evaluation - XGBoost Baseline (5.1)"
   ]
  },
  {
   "cell_type": "code",
   "execution_count": null,
   "id": "4c4f3076",
   "metadata": {
    "papermill": {
     "duration": 0.069572,
     "end_time": "2021-11-23T19:42:09.306841",
     "exception": false,
     "start_time": "2021-11-23T19:42:09.237269",
     "status": "completed"
    },
    "tags": []
   },
   "outputs": [],
   "source": [
    "from sklearn.metrics import accuracy_score, roc_auc_score, classification_report, roc_curve, auc\n",
    "from sklearn.metrics import roc_curve, auc\n"
   ]
  },
  {
   "cell_type": "code",
   "execution_count": null,
   "id": "76045054",
   "metadata": {
    "papermill": {
     "duration": 0.294296,
     "end_time": "2021-11-23T19:42:09.663365",
     "exception": false,
     "start_time": "2021-11-23T19:42:09.369069",
     "status": "completed"
    },
    "tags": []
   },
   "outputs": [],
   "source": [
    "y_pred_proba_1 = model_1.predict_proba(X_valid_1)[:,1]\n",
    "roc_auc =  roc_auc_score(y_valid_1,y_pred_proba_1)\n",
    "y_pred_1 = model_1.predict(X_valid_1)\n",
    "accuracy =  accuracy_score(y_valid_1, y_pred_1)\n",
    "report = classification_report(y_valid_1, y_pred_1, output_dict=True)\n"
   ]
  },
  {
   "cell_type": "code",
   "execution_count": null,
   "id": "f92647ba",
   "metadata": {
    "papermill": {
     "duration": 0.076434,
     "end_time": "2021-11-23T19:42:09.802348",
     "exception": false,
     "start_time": "2021-11-23T19:42:09.725914",
     "status": "completed"
    },
    "tags": []
   },
   "outputs": [],
   "source": [
    "print(roc_auc, accuracy)\n",
    "report"
   ]
  },
  {
   "cell_type": "code",
   "execution_count": null,
   "id": "db8c7875",
   "metadata": {
    "papermill": {
     "duration": 0.069112,
     "end_time": "2021-11-23T19:42:09.935068",
     "exception": false,
     "start_time": "2021-11-23T19:42:09.865956",
     "status": "completed"
    },
    "tags": []
   },
   "outputs": [],
   "source": [
    "metrics = {\n",
    "    \"roc_auc\": roc_auc,\n",
    "    \"accuracy\": accuracy,\n",
    "    \"classification report\": report\n",
    "}"
   ]
  },
  {
   "cell_type": "code",
   "execution_count": null,
   "id": "467e02fc",
   "metadata": {
    "papermill": {
     "duration": 0.068915,
     "end_time": "2021-11-23T19:42:10.066745",
     "exception": false,
     "start_time": "2021-11-23T19:42:09.997830",
     "status": "completed"
    },
    "tags": []
   },
   "outputs": [],
   "source": [
    "experiment.log_metrics(metrics)"
   ]
  },
  {
   "cell_type": "code",
   "execution_count": null,
   "id": "f66eb27e",
   "metadata": {
    "papermill": {
     "duration": 0.06948,
     "end_time": "2021-11-23T19:42:10.198315",
     "exception": false,
     "start_time": "2021-11-23T19:42:10.128835",
     "status": "completed"
    },
    "tags": []
   },
   "outputs": [],
   "source": [
    "params = {\"base_score\":0.5, \"booster\":\"gbtree\", \"colsample_bylevel\":1,\n",
    "              \"colsample_bynode\":1, \"colsample_bytree\":1, \"enable_categorical\":False,\n",
    "              \"gamma\":0, \"gpu_id\":1, \"importance_type\":None,\n",
    "              \"learning_rate\":0.300000012,\n",
    "              \"max_delta_step\":0, \"max_depth\":6, \"min_child_weight\":1, \"missing\":np.nan,\n",
    "              \"monotone_constraints\":'()', \"n_estimators\":100, \"n_jobs\":2,\n",
    "              \"num_parallel_tree\":1, \"predictor\":'auto', \"random_state\":0,\n",
    "              \"reg_alpha\":0, \"reg_lambda\":1, \"scale_pos_weight\":1, \"subsample\":1,\n",
    "              \"tree_method\":'exact', \"validate_parameters\":1, \"verbosity\":None}"
   ]
  },
  {
   "cell_type": "code",
   "execution_count": null,
   "id": "8087263f",
   "metadata": {
    "papermill": {
     "duration": 0.067851,
     "end_time": "2021-11-23T19:42:10.328394",
     "exception": false,
     "start_time": "2021-11-23T19:42:10.260543",
     "status": "completed"
    },
    "tags": []
   },
   "outputs": [],
   "source": [
    "experiment.log_parameters(params)"
   ]
  },
  {
   "cell_type": "code",
   "execution_count": null,
   "id": "6b950d23",
   "metadata": {
    "papermill": {
     "duration": 0.068807,
     "end_time": "2021-11-23T19:42:10.459087",
     "exception": false,
     "start_time": "2021-11-23T19:42:10.390280",
     "status": "completed"
    },
    "tags": []
   },
   "outputs": [],
   "source": [
    "def infer_model(X,y):\n",
    "    global y_valid \n",
    "    global y_pred\n",
    "    global X_valid\n",
    "    global predicted_prob\n",
    "    \n",
    "    X_train, X_valid, y_train, y_valid = train_test_split(X,y,test_size=0.15,random_state=10, stratify=y_1, shuffle = True)\n",
    "\n",
    "    model_2 = XGBClassifier()\n",
    "    model_2.fit(X_train,y_train)\n",
    "    \n",
    "    y_pred = model_2.predict(X_valid)\n",
    "    predicted_prob = model_2.predict_proba(X_valid)\n",
    "\n",
    "#    return y_valid, y_pred, X_valid.shape, predicted_prob\n"
   ]
  },
  {
   "cell_type": "code",
   "execution_count": null,
   "id": "7c737781",
   "metadata": {
    "papermill": {
     "duration": 0.072084,
     "end_time": "2021-11-23T19:42:10.593117",
     "exception": false,
     "start_time": "2021-11-23T19:42:10.521033",
     "status": "completed"
    },
    "tags": []
   },
   "outputs": [],
   "source": [
    "# Functions for 4 plots\n",
    "\n",
    "def roc_auc_plot(df_roc,df_auc):\n",
    "    plt.figure(figsize=(12.5,7.5))\n",
    "    lw = 3\n",
    "    color_list = ['darkorange','green','navy','red']\n",
    "    for i in range(len(list_model_iter)):\n",
    "        \n",
    "        plt.plot(df_roc.FPR[i], df_roc.TPR[i],color=color_list[i],lw=lw,label=f'{df_auc.Feature[i]} (area = {df_auc.AUC[i]})')\n",
    "\n",
    "    plt.plot([0, 1], [0, 1], color=\"black\", lw=lw, label=\"Ideal Random Baseline\",linestyle=\"--\")\n",
    "    plt.legend(fontsize=12)\n",
    "    plt.ylabel('True Positive Rate', fontsize=18)\n",
    "    plt.xlabel('False Positive Rate', fontsize=18)\n",
    "    plt.title(\"ROC CURVE\", fontsize=18)\n",
    "    plt.savefig('ROC_XGBOOST.png')\n",
    "    plt.show()\n",
    "    experiment.log_figure(figure=plt,overwrite=False)\n",
    "\n",
    "def goal_rate_plot(df_perc_prop,n_bins):\n",
    "    \n",
    "    fig = plt.figure(figsize=(12.5,7.5))\n",
    "    color_list = ['darkorange','green','navy','red']\n",
    "    \n",
    "    for i in range(len(list_model_iter)):\n",
    "\n",
    "        ax = sns.lineplot(x = df_perc_prop.pctile[i*n_bins:n_bins*(i+1)-1], y = df_perc_prop.goal_rate[i*n_bins:n_bins*(i+1)-1], label=f'{df_auc.Feature[i]}', color=color_list[i], legend = False, linewidth = 3)\n",
    "\n",
    "    ax.set_xlim(left=105, right=-5)\n",
    "    ax.set_ylim(bottom=0, top=.25)\n",
    "    fig.legend(loc=\"upper right\")\n",
    "    plt.title(f\"Goal Rate v.s. Shot Probability Model Percentile\")\n",
    "    fig.legend(loc=\"upper right\")\n",
    "    #plt.autoscale()\n",
    "    fig.show()\n",
    "    plt.savefig('Goal_Rate_XGBOOST.png')\n",
    "    experiment.log_figure(figure=fig,overwrite=False)\n",
    "\n",
    "def cum_rate_plot(df_perc_prop_cum,n_bins):\n",
    "    \n",
    "    fig = plt.figure(figsize=(12.5,7.5))\n",
    "    color_list = ['darkorange','green','navy','red']\n",
    "    \n",
    "    for i in range(len(list_model_iter)):\n",
    "\n",
    "        ax = sns.lineplot(x = df_perc_prop_cum.pctile[i*n_bins:n_bins*(i+1)-1], y = df_perc_prop_cum.cum_goal_rate[i*n_bins:n_bins*(i+1)-1], label=f'{df_auc.Feature[i]}', color=color_list[i], legend = False, linewidth = 3)\n",
    " \n",
    "    ax.set_xlim(left=105, right=-5)\n",
    "    ax.set_ylim(bottom=0, top=df_perc_prop_cum['cum_goal_rate'].max()+0.05)\n",
    "    fig.legend(loc=\"upper right\")\n",
    "    plt.title(f\"Cumulative Goal Rate v.s. Shot Probability Model Percentile\")\n",
    "    plt.grid(color='r', linestyle='-', linewidth=0.25)\n",
    "    fig.legend(loc=\"upper right\")\n",
    "    #plt.autoscale()\n",
    "    fig.show()\n",
    "    plt.savefig('Cum_Goal_XGBOOST.png')\n",
    "    experiment.log_figure(figure=fig,overwrite=False)\n",
    "\n",
    "def calibration_plot(df_calib,n_bins,length):\n",
    "    fig = plt.figure(figsize=(8, 8))\n",
    "    ax1 = plt.subplot2grid((1, 1), (0, 0), rowspan=1)\n",
    "    ax1.plot([0, 1], [0, 1], \"k:\", label=\"Perfectly calibrated\")\n",
    "    for i in range(len(list_model_iter)):\n",
    "        prob_true, prob_pred = calibration_curve(df_calib.goal_ind[int(i*length):int(length*(i+1)-1)], df_calib.Goal_Prob[int(i*length):int(length*(i+1)-1)], n_bins=n_bins)\n",
    "        ax1.plot(prob_pred, prob_true, \"s-\",label=f'{df_auc.Feature[i]}')\n",
    "    ax1.set_ylabel(\"Fraction of positives\")\n",
    "    ax1.set_ylim([-0.05, 1.05])\n",
    "    ax1.legend(loc=\"lower right\")\n",
    "    ax1.set_title('Calibration plots  (reliability curve)')\n",
    "    ax1.set_xlabel(\"Mean predicted value\")\n",
    "    ax1.set_ylabel(\"Fraction of Positives\")\n",
    "    ax1.legend(loc=\"upper center\", ncol=2)\n",
    "    plt.tight_layout()\n",
    "    plt.savefig('Calibration_Curve_XGBOOST.png')\n",
    "    experiment.log_figure(figure=fig,overwrite=False)"
   ]
  },
  {
   "cell_type": "code",
   "execution_count": null,
   "id": "11dc9c3f",
   "metadata": {},
   "outputs": [],
   "source": [
    "df_train_XG['angle_from_net_abs']=df_train_XG['angle_from_net'].abs()\n",
    "#df_train2 = df_train.copy()\n",
    "fpr,tpr,roc_auc = dict(),dict(),dict()\n",
    "fpr_list,tpr_list,roc_auc_list,feature_list=[],[],[],[]\n",
    "df_cum_prop1,df_cum_prop2,df_cum_prop3 = [],[],[]\n",
    "\n",
    "df_perc,goal_count,shot_count,goal_rate,cum_goal_rate,pctile,pctile_prop = [],[],[],[],[],[],[]\n",
    "goal_count2,pctile2,cum_goal_rate2 = [],[],[]\n",
    "n_bins, quant = 20,5\n",
    "list_model_iter = [['distance_from_net'],\n",
    "                   ['angle_from_net_abs'],\n",
    "                   ['distance_from_net','angle_from_net_abs'],\n",
    "                  ]\n",
    "y = df_train_XG['goal_ind']\n",
    "predicted_prob_goal,temp_y_valid = [],[]\n",
    "\n",
    "for ele in list_model_iter:\n",
    "    feature_list.append(ele)\n",
    "    if df_train_XG[ele].shape[1] == 1:\n",
    "        X = df_train_XG[ele].values.reshape(-1,1)\n",
    "        infer_model(X,y)\n",
    "        temp_y_valid += y_valid.tolist()\n",
    "        for prob in predicted_prob:\n",
    "            predicted_prob_goal.append(prob[1])\n",
    "    else:\n",
    "        X = df_train_XG[ele].values\n",
    "        infer_model(X,y)\n",
    "        temp_y_valid  += y_valid.tolist()\n",
    "        for prob in predicted_prob:\n",
    "            predicted_prob_goal.append(prob[1])\n",
    "#--------------------Determine ROC curve----------------------------------\n",
    "length = len(temp_y_valid)/len(list_model_iter)\n",
    "df_prob = pd.DataFrame(list(zip(temp_y_valid,predicted_prob_goal)), columns = ['goal_ind','Goal_Prob'])\n",
    "df_prob['shot_count'] = 1\n",
    "# df_calib is copy of df_prob\n",
    "df_calib = df_prob.copy()\n",
    "for m in range(len(list_model_iter)):\n",
    "    df_prob_f = df_prob.loc[m*length:length*(m+1)-1,:]\n",
    "    fpr, tpr, _ = roc_curve(df_prob_f['goal_ind'], df_prob_f['Goal_Prob'])\n",
    "    roc_auc = auc(fpr, tpr)\n",
    "    fpr_list.append(fpr)\n",
    "    tpr_list.append(tpr)\n",
    "    roc_auc_list.append(roc_auc)\n",
    "# df_prob_f1 is copy of df_prob_f\n",
    "    df_prob_f1 = df_prob_f.copy()\n",
    "    df_prob_f1['percentile'] = df_prob_f1['Goal_Prob'].rank(pct=True)\n",
    "    quantile_list = np.linspace(0,1,n_bins*5+1).round(4).tolist()\n",
    "    q = df_prob_f1.quantile(quantile_list)\n",
    "    col = 'Goal_Prob'\n",
    "    for i in np.arange(quant,(quant*n_bins)+1,quant):\n",
    "        df_perc = df_prob_f1[((df_prob_f1[col]>=q[col][(i-quant)/100]) & (df_prob_f1[col]<q[col][i/100]))]\n",
    "        goal_count.append(df_perc['goal_ind'].sum())\n",
    "        shot_count.append(df_perc['shot_count'].sum())\n",
    "        goal_rate.append(df_perc['goal_ind'].sum()/df_perc['shot_count'].sum())\n",
    "        pctile.append(i)\n",
    "    df_perc_prop = pd.DataFrame(list(zip(goal_count,shot_count,goal_rate,pctile)),columns=['goal_count',\"sum_shot_count\",'goal_rate','pctile'])\n",
    "# df_prob_f2 is copy of df_prob_f\n",
    "\n",
    "    df_prob_f2 = df_prob_f.copy()\n",
    "    df_prob_f2['percentile'] = df_prob_f2['Goal_Prob'].rank(pct=True)\n",
    "    q2 = df_prob_f2.quantile(quantile_list)\n",
    "    total = df_prob_f2['goal_ind'].sum()\n",
    "\n",
    "    temp,j=0,100\n",
    "    \n",
    "    for j in np.arange((quant*n_bins),0,-quant):\n",
    "        df_perc2 = df_prob_f2[((df_prob_f2[col]>q[col][(j-quant)/100]) & (df_prob_f2[col]<=q[col][j/100]))]\n",
    "        goal_count2.append(df_perc2.goal_ind.sum())\n",
    "        temp+=df_perc2.goal_ind.sum()\n",
    "        cum_goal_rate2.append(temp/total)\n",
    "        pctile2.append(j)\n",
    "       \n",
    "    df_perc_prop_cum = pd.DataFrame(list(zip(goal_count2,cum_goal_rate2,pctile2)),columns=['goal_count','cum_goal_rate','pctile'])\n",
    "#print(df_perc_prop_cum[:20])\n"
   ]
  },
  {
   "cell_type": "code",
   "execution_count": null,
   "id": "fcc205f9",
   "metadata": {},
   "outputs": [],
   "source": [
    "# Call for functions to plot curves\n",
    "#----------------------------------------------------------------------------------------------- \n",
    "df_roc=pd.DataFrame(list(zip(fpr_list,tpr_list)),columns = ['FPR','TPR'])\n",
    "df_auc=pd.DataFrame(list(zip(feature_list,roc_auc_list)),columns = ['Feature','AUC'])\n",
    "roc_auc_plot(df_roc,df_auc)\n"
   ]
  },
  {
   "cell_type": "code",
   "execution_count": null,
   "id": "6833eec1",
   "metadata": {},
   "outputs": [],
   "source": [
    "import seaborn as sns\n",
    "#--------------------Determine Goal Rate (#goals / (#no_goals + #goals)) ----------------------------------\n",
    "goal_rate_plot(df_perc_prop,n_bins)\n",
    "\n"
   ]
  },
  {
   "cell_type": "code",
   "execution_count": null,
   "id": "6b73f9dc",
   "metadata": {},
   "outputs": [],
   "source": [
    "#-----------------------------------------------------------------------------------------------\n",
    "cum_rate_plot(df_perc_prop_cum,n_bins)"
   ]
  },
  {
   "cell_type": "code",
   "execution_count": null,
   "id": "520c3c77",
   "metadata": {
    "scrolled": true
   },
   "outputs": [],
   "source": [
    "from sklearn.calibration import calibration_curve, CalibrationDisplay\n",
    "#-----------------------------------------------------------------------------------------------\n",
    "calibration_plot(df_calib,n_bins,length)"
   ]
  },
  {
   "cell_type": "code",
   "execution_count": null,
   "id": "07a3aaff",
   "metadata": {
    "papermill": {
     "duration": 0.067449,
     "end_time": "2021-11-23T19:42:10.722326",
     "exception": false,
     "start_time": "2021-11-23T19:42:10.654877",
     "status": "completed"
    },
    "tags": []
   },
   "outputs": [],
   "source": [
    "# experiment.end"
   ]
  },
  {
   "cell_type": "markdown",
   "id": "ed2d725c",
   "metadata": {
    "papermill": {
     "duration": 0.063157,
     "end_time": "2021-11-23T19:42:10.849605",
     "exception": false,
     "start_time": "2021-11-23T19:42:10.786448",
     "status": "completed"
    },
    "tags": []
   },
   "source": [
    "## 5.2"
   ]
  },
  {
   "cell_type": "code",
   "execution_count": null,
   "id": "42082d71",
   "metadata": {
    "papermill": {
     "duration": 0.076727,
     "end_time": "2021-11-23T19:42:10.989241",
     "exception": false,
     "start_time": "2021-11-23T19:42:10.912514",
     "status": "completed"
    },
    "tags": []
   },
   "outputs": [],
   "source": [
    "X_train_2.isnull().sum()"
   ]
  },
  {
   "cell_type": "code",
   "execution_count": null,
   "id": "20b0224d",
   "metadata": {
    "papermill": {
     "duration": 0.079511,
     "end_time": "2021-11-23T19:42:11.132701",
     "exception": false,
     "start_time": "2021-11-23T19:42:11.053190",
     "status": "completed"
    },
    "tags": []
   },
   "outputs": [],
   "source": [
    "# X_train_2.isinf().sum()\n",
    "for f in [\"distance_from_last_event\", \"speed\", \"change_in_angle\"]:\n",
    "    print(np.isinf(X_train_2[[f]]).values.sum())\n",
    "np.isinf(y_train_2).values.sum()"
   ]
  },
  {
   "cell_type": "code",
   "execution_count": null,
   "id": "847a6f11",
   "metadata": {
    "papermill": {
     "duration": 0.081056,
     "end_time": "2021-11-23T19:42:11.277067",
     "exception": false,
     "start_time": "2021-11-23T19:42:11.196011",
     "status": "completed"
    },
    "tags": []
   },
   "outputs": [],
   "source": [
    "X_train_2.replace([np.inf, -np.inf], np.nan, inplace=True)\n",
    "for f in [\"distance_from_last_event\", \"speed\", \"change_in_angle\"]:\n",
    "    print(np.isinf(X_train_2[[f]]).values.sum())"
   ]
  },
  {
   "cell_type": "code",
   "execution_count": null,
   "id": "30abb17e",
   "metadata": {
    "papermill": {
     "duration": 0.075247,
     "end_time": "2021-11-23T19:42:11.417741",
     "exception": false,
     "start_time": "2021-11-23T19:42:11.342494",
     "status": "completed"
    },
    "tags": []
   },
   "outputs": [],
   "source": [
    "print(X_train_2.isnull().sum())"
   ]
  },
  {
   "cell_type": "code",
   "execution_count": null,
   "id": "b9ea02ad",
   "metadata": {
    "papermill": {
     "duration": 0.084993,
     "end_time": "2021-11-23T19:42:11.569795",
     "exception": false,
     "start_time": "2021-11-23T19:42:11.484802",
     "status": "completed"
    },
    "tags": []
   },
   "outputs": [],
   "source": [
    "X_train_2.fillna(0, inplace=True)\n",
    "print(X_train_2.isnull().sum())"
   ]
  },
  {
   "cell_type": "code",
   "execution_count": null,
   "id": "37f847c9",
   "metadata": {
    "papermill": {
     "duration": 20.158365,
     "end_time": "2021-11-23T19:42:31.793583",
     "exception": false,
     "start_time": "2021-11-23T19:42:11.635218",
     "status": "completed"
    },
    "tags": []
   },
   "outputs": [],
   "source": [
    "model_2 = XGBClassifier()\n",
    " \n",
    "# fit the model with the training data\n",
    "model_2.fit(X_train_2,y_train_2)"
   ]
  },
  {
   "cell_type": "code",
   "execution_count": null,
   "id": "509d320d",
   "metadata": {
    "papermill": {
     "duration": 0.190773,
     "end_time": "2021-11-23T19:42:32.049824",
     "exception": false,
     "start_time": "2021-11-23T19:42:31.859051",
     "status": "completed"
    },
    "tags": []
   },
   "outputs": [],
   "source": [
    "preds_2 = model_2.predict(X_valid_2)"
   ]
  },
  {
   "cell_type": "code",
   "execution_count": null,
   "id": "207c9ce5",
   "metadata": {},
   "outputs": [],
   "source": [
    "preds_2"
   ]
  },
  {
   "cell_type": "code",
   "execution_count": null,
   "id": "c146b29c",
   "metadata": {},
   "outputs": [],
   "source": [
    "def infer_model3(X_train_ele,y_train,X_valid_ele):\n",
    "    global y_pred\n",
    "    global predicted_prob\n",
    "    \n",
    "\n",
    "    model_3 = XGBClassifier()\n",
    "    model_3.fit(X_train_ele,y_train)\n",
    "    \n",
    "    y_pred = model_3.predict(X_valid_ele)\n",
    "    predicted_prob = model_3.predict_proba(X_valid_ele)"
   ]
  },
  {
   "cell_type": "code",
   "execution_count": null,
   "id": "388e145a",
   "metadata": {},
   "outputs": [],
   "source": [
    "df_train_XG.columns\n"
   ]
  },
  {
   "cell_type": "markdown",
   "id": "499cecce",
   "metadata": {
    "papermill": {
     "duration": 0.064307,
     "end_time": "2021-11-23T19:42:32.181757",
     "exception": false,
     "start_time": "2021-11-23T19:42:32.117450",
     "status": "completed"
    },
    "tags": []
   },
   "source": [
    "### Performance Plots"
   ]
  },
  {
   "cell_type": "code",
   "execution_count": null,
   "id": "fde7df2e",
   "metadata": {},
   "outputs": [],
   "source": [
    "#df_train2 = df_train.copy()\n",
    "fpr,tpr,roc_auc = dict(),dict(),dict()\n",
    "fpr_list,tpr_list,roc_auc_list,feature_list=[],[],[],[]\n",
    "df_cum_prop1,df_cum_prop2,df_cum_prop3 = [],[],[]\n",
    "\n",
    "df_perc,goal_count,shot_count,goal_rate,cum_goal_rate,pctile,pctile_prop = [],[],[],[],[],[],[]\n",
    "goal_count2,pctile2,cum_goal_rate2 = [],[],[]\n",
    "n_bins, quant = 20,5\n",
    "list_model_iter = [['distance_from_last_event'],\n",
    "                   ['speed'],\n",
    "                   ['change_in_angle'],\n",
    "                  ]\n",
    "X = df_train_XG2[['distance_from_last_event','speed','change_in_angle']]\n",
    "y = df_train_XG2['goal_ind']\n",
    "\n",
    "X_train, X_valid, y_train, y_valid = train_test_split(X,y,test_size=0.15,random_state=10, stratify=y_1, shuffle = True)\n",
    "# print(X_train.columns,X_train.shape)\n",
    "# print(X_valid.columns,X_valid.shape)\n",
    "# break\n",
    "predicted_prob_goal,temp_y_valid = [],[]\n",
    "\n",
    "for ele in list_model_iter:\n",
    "    feature_list.append(ele)\n",
    "    if X_train[ele].shape[1] == 1:\n",
    "        X_train_ele = X_train[ele].values.reshape(-1,1)\n",
    "        X_valid_ele = X_valid[ele].values.reshape(-1,1)\n",
    "        infer_model3(X_train_ele,y_train,X_valid_ele)\n",
    "        temp_y_valid += y_valid.tolist()\n",
    "        for prob in predicted_prob:\n",
    "            predicted_prob_goal.append(prob[1])\n",
    "    else:\n",
    "        X_train_ele = X_train[ele].values\n",
    "        infer_model3(X_train_ele,y_train,X_valid_ele)\n",
    "        temp_y_valid  += y_valid.tolist()\n",
    "        for prob in predicted_prob:\n",
    "            predicted_prob_goal.append(prob[1])\n",
    "#--------------------Determine ROC curve----------------------------------\n",
    "length = len(temp_y_valid)/len(list_model_iter)\n",
    "df_prob = pd.DataFrame(list(zip(temp_y_valid,predicted_prob_goal)), columns = ['goal_ind','Goal_Prob'])\n",
    "df_prob['shot_count'] = 1\n",
    "# df_calib is copy of df_prob\n",
    "df_calib = df_prob.copy()\n",
    "for m in range(len(list_model_iter)):\n",
    "    df_prob_f = df_prob.loc[m*length:length*(m+1)-1,:]\n",
    "    fpr, tpr, _ = roc_curve(df_prob_f['goal_ind'], df_prob_f['Goal_Prob'])\n",
    "    roc_auc = auc(fpr, tpr)\n",
    "    fpr_list.append(fpr)\n",
    "    tpr_list.append(tpr)\n",
    "    roc_auc_list.append(roc_auc)\n",
    "# df_prob_f1 is copy of df_prob_f\n",
    "    df_prob_f1 = df_prob_f.copy()\n",
    "    df_prob_f1['percentile'] = df_prob_f1['Goal_Prob'].rank(pct=True)\n",
    "    quantile_list = np.linspace(0,1,n_bins*5+1).round(4).tolist()\n",
    "    q = df_prob_f1.quantile(quantile_list)\n",
    "    col = 'Goal_Prob'\n",
    "    for i in np.arange(quant,(quant*n_bins)+1,quant):\n",
    "        df_perc = df_prob_f1[((df_prob_f1[col]>=q[col][(i-quant)/100]) & (df_prob_f1[col]<q[col][i/100]))]\n",
    "        goal_count.append(df_perc['goal_ind'].sum())\n",
    "        shot_count.append(df_perc['shot_count'].sum())\n",
    "        goal_rate.append(df_perc['goal_ind'].sum()/df_perc['shot_count'].sum())\n",
    "        pctile.append(i)\n",
    "    df_perc_prop = pd.DataFrame(list(zip(goal_count,shot_count,goal_rate,pctile)),columns=['goal_count',\"sum_shot_count\",'goal_rate','pctile'])\n",
    "# df_prob_f2 is copy of df_prob_f\n",
    "\n",
    "    df_prob_f2 = df_prob_f.copy()\n",
    "    df_prob_f2['percentile'] = df_prob_f2['Goal_Prob'].rank(pct=True)\n",
    "    q2 = df_prob_f2.quantile(quantile_list)\n",
    "    total = df_prob_f2['goal_ind'].sum()\n",
    "\n",
    "    temp,j=0,100\n",
    "    \n",
    "    for j in np.arange((quant*n_bins),0,-quant):\n",
    "        df_perc2 = df_prob_f2[((df_prob_f2[col]>q[col][(j-quant)/100]) & (df_prob_f2[col]<=q[col][j/100]))]\n",
    "        goal_count2.append(df_perc2.goal_ind.sum())\n",
    "        temp+=df_perc2.goal_ind.sum()\n",
    "        cum_goal_rate2.append(temp/total)\n",
    "        pctile2.append(j)\n",
    "       \n",
    "    df_perc_prop_cum = pd.DataFrame(list(zip(goal_count2,cum_goal_rate2,pctile2)),columns=['goal_count','cum_goal_rate','pctile'])\n",
    "#print(df_perc_prop_cum[:20])\n"
   ]
  },
  {
   "cell_type": "code",
   "execution_count": null,
   "id": "5c20c2b4",
   "metadata": {
    "papermill": {
     "duration": 0.085319,
     "end_time": "2021-11-23T19:42:32.468935",
     "exception": false,
     "start_time": "2021-11-23T19:42:32.383616",
     "status": "completed"
    },
    "tags": []
   },
   "outputs": [],
   "source": [
    "df_train.angle_from_net.describe()"
   ]
  },
  {
   "cell_type": "markdown",
   "id": "bf026e98",
   "metadata": {
    "papermill": {
     "duration": 0.065252,
     "end_time": "2021-11-23T19:42:32.603160",
     "exception": false,
     "start_time": "2021-11-23T19:42:32.537908",
     "status": "completed"
    },
    "tags": []
   },
   "source": [
    "# Hyper-paramter Tuning"
   ]
  },
  {
   "cell_type": "code",
   "execution_count": null,
   "id": "dc340e6a",
   "metadata": {
    "papermill": {
     "duration": 0.073279,
     "end_time": "2021-11-23T19:42:32.741352",
     "exception": false,
     "start_time": "2021-11-23T19:42:32.668073",
     "status": "completed"
    },
    "tags": []
   },
   "outputs": [],
   "source": [
    "from sklearn.model_selection import RandomizedSearchCV, GridSearchCV\n",
    "from sklearn.metrics import roc_auc_score\n",
    "from sklearn.model_selection import StratifiedKFold, RepeatedStratifiedKFold"
   ]
  },
  {
   "cell_type": "code",
   "execution_count": null,
   "id": "b77cb602",
   "metadata": {
    "papermill": {
     "duration": 0.07235,
     "end_time": "2021-11-23T19:42:32.878765",
     "exception": false,
     "start_time": "2021-11-23T19:42:32.806415",
     "status": "completed"
    },
    "tags": []
   },
   "outputs": [],
   "source": [
    "# A parameter grid for XGBoost\n",
    "params = {\n",
    "    'n_estimators': [100, 150],\n",
    "    'learning_rate': [0.3, 0.2, 0.1],\n",
    "    'max_depth': [4,6 , 7, 8]\n",
    "}"
   ]
  },
  {
   "cell_type": "code",
   "execution_count": null,
   "id": "08ef487e",
   "metadata": {
    "papermill": {
     "duration": 0.076068,
     "end_time": "2021-11-23T19:42:33.019412",
     "exception": false,
     "start_time": "2021-11-23T19:42:32.943344",
     "status": "completed"
    },
    "tags": []
   },
   "outputs": [],
   "source": [
    "y_train_2.shape"
   ]
  },
  {
   "cell_type": "code",
   "execution_count": null,
   "id": "4c7ed235",
   "metadata": {
    "papermill": {
     "duration": 443.291276,
     "end_time": "2021-11-23T19:49:56.376302",
     "exception": false,
     "start_time": "2021-11-23T19:42:33.085026",
     "status": "completed"
    },
    "tags": []
   },
   "outputs": [],
   "source": [
    "folds = 3\n",
    "param_comb = 5\n",
    "\n",
    "skf = StratifiedKFold(n_splits=folds, shuffle = True, random_state = 1001)\n",
    "\n",
    "random_search = RandomizedSearchCV(model_2, param_distributions=params, n_iter=param_comb, scoring='roc_auc', n_jobs=4, cv=skf.split(X_train_2,y_train_2), verbose=3, random_state=1001 )\n",
    "\n",
    "# Here we go\n",
    "# start_time = timer(None) # timing starts from this point for \"start_time\" variable\n",
    "random_search.fit(X_train_2,y_train_2)\n",
    "# timer(start_time) # timing ends here for \"start_time\" variable"
   ]
  },
  {
   "cell_type": "code",
   "execution_count": null,
   "id": "5bff6b71",
   "metadata": {
    "papermill": {
     "duration": 0.087942,
     "end_time": "2021-11-23T19:49:56.530954",
     "exception": false,
     "start_time": "2021-11-23T19:49:56.443012",
     "status": "completed"
    },
    "tags": []
   },
   "outputs": [],
   "source": [
    "print('\\n All results:')\n",
    "print(random_search.cv_results_)\n",
    "print('\\n Best estimator:')\n",
    "print(random_search.best_estimator_)\n",
    "print('\\n Best normalized gini score for %d-fold search with %d parameter combinations:' % (folds, param_comb))\n",
    "print(random_search.best_score_ * 2 - 1)\n",
    "print('\\n Best hyperparameters:')\n",
    "print(random_search.best_params_)\n",
    "results = pd.DataFrame(random_search.cv_results_)\n",
    "results.to_csv('xgb-random-grid-search-results-01.csv', index=False)"
   ]
  },
  {
   "cell_type": "code",
   "execution_count": null,
   "id": "bda75821",
   "metadata": {
    "papermill": {
     "duration": 18.938064,
     "end_time": "2021-11-23T19:50:15.535714",
     "exception": false,
     "start_time": "2021-11-23T19:49:56.597650",
     "status": "completed"
    },
    "tags": []
   },
   "outputs": [],
   "source": [
    "model_2_hmtuned = XGBClassifier(n_estimators= 150, max_depth= 4, learning_rate= 0.2, subsample= 1.0, min_child_weight= 5, gamma= 5, colsample_bytree= 1.0)\n",
    " \n",
    "# fit the model with the training data\n",
    "model_2_hmtuned.fit(X_train_2,y_train_2)"
   ]
  },
  {
   "cell_type": "code",
   "execution_count": null,
   "id": "149ef65c",
   "metadata": {
    "papermill": {
     "duration": 0.384871,
     "end_time": "2021-11-23T19:50:15.997488",
     "exception": false,
     "start_time": "2021-11-23T19:50:15.612617",
     "status": "completed"
    },
    "tags": []
   },
   "outputs": [],
   "source": [
    "y_pred_proba_2 = model_2.predict_proba(X_valid_2)[:,1]\n",
    "roc_auc =  roc_auc_score(y_valid_2,y_pred_proba_2)\n",
    "y_pred_2 = model_2.predict(X_valid_2)\n",
    "accuracy =  accuracy_score(y_valid_2, y_pred_2)\n",
    "report = classification_report(y_valid_2, y_pred_2, output_dict=True)\n",
    "\n"
   ]
  },
  {
   "cell_type": "code",
   "execution_count": null,
   "id": "58c94735",
   "metadata": {
    "papermill": {
     "duration": 0.076381,
     "end_time": "2021-11-23T19:50:16.142538",
     "exception": false,
     "start_time": "2021-11-23T19:50:16.066157",
     "status": "completed"
    },
    "tags": []
   },
   "outputs": [],
   "source": [
    "print(roc_auc, accuracy)"
   ]
  },
  {
   "cell_type": "markdown",
   "id": "eb20408b",
   "metadata": {
    "papermill": {
     "duration": 0.067677,
     "end_time": "2021-11-23T19:50:16.277682",
     "exception": false,
     "start_time": "2021-11-23T19:50:16.210005",
     "status": "completed"
    },
    "tags": []
   },
   "source": [
    "### Evaluation - XGBoost post Hyperparameter Tuning"
   ]
  },
  {
   "cell_type": "code",
   "execution_count": null,
   "id": "9663c56b",
   "metadata": {
    "papermill": {
     "duration": 0.289956,
     "end_time": "2021-11-23T19:50:16.635117",
     "exception": false,
     "start_time": "2021-11-23T19:50:16.345161",
     "status": "completed"
    },
    "tags": []
   },
   "outputs": [],
   "source": [
    "y_pred_proba_2 = model_2_hmtuned.predict_proba(X_valid_2)[:,1]\n",
    "roc_auc =  roc_auc_score(y_valid_2,y_pred_proba_2)\n",
    "y_pred_2 = model_2_hmtuned.predict(X_valid_2)\n",
    "accuracy =  accuracy_score(y_valid_2, y_pred_2)\n",
    "report = classification_report(y_valid_2, y_pred_2, output_dict=True)\n",
    "\n",
    "\n"
   ]
  },
  {
   "cell_type": "code",
   "execution_count": null,
   "id": "a66f19d6",
   "metadata": {
    "papermill": {
     "duration": 0.075315,
     "end_time": "2021-11-23T19:50:16.779229",
     "exception": false,
     "start_time": "2021-11-23T19:50:16.703914",
     "status": "completed"
    },
    "tags": []
   },
   "outputs": [],
   "source": [
    "print(roc_auc, accuracy)"
   ]
  },
  {
   "cell_type": "code",
   "execution_count": null,
   "id": "c631b5dd",
   "metadata": {
    "papermill": {
     "duration": 0.09513,
     "end_time": "2021-11-23T19:50:16.942872",
     "exception": false,
     "start_time": "2021-11-23T19:50:16.847742",
     "status": "completed"
    },
    "tags": []
   },
   "outputs": [],
   "source": [
    "# count examples in each class\n",
    "counter = Counter(y_pred_2)\n",
    "print(counter[0] , counter[1])"
   ]
  },
  {
   "cell_type": "markdown",
   "id": "a9ecd66d",
   "metadata": {
    "papermill": {
     "duration": 0.067564,
     "end_time": "2021-11-23T19:50:17.081319",
     "exception": false,
     "start_time": "2021-11-23T19:50:17.013755",
     "status": "completed"
    },
    "tags": []
   },
   "source": [
    "# To avoid heavy class imbalance problem, tuning class weights scale"
   ]
  },
  {
   "cell_type": "code",
   "execution_count": null,
   "id": "13bcce9c",
   "metadata": {
    "papermill": {
     "duration": 0.074409,
     "end_time": "2021-11-23T19:50:17.224122",
     "exception": false,
     "start_time": "2021-11-23T19:50:17.149713",
     "status": "completed"
    },
    "tags": []
   },
   "outputs": [],
   "source": [
    "# NOTE: this approach does NOT yield any good results (#BLOG)\n",
    "\n",
    "weights = [1, 10, 25, 50, 75, 99, 100, 1000]\n",
    "param_grid = dict(scale_pos_weight=weights)"
   ]
  },
  {
   "cell_type": "code",
   "execution_count": null,
   "id": "382eb00b",
   "metadata": {
    "papermill": {
     "duration": 344.095744,
     "end_time": "2021-11-23T19:56:01.388018",
     "exception": false,
     "start_time": "2021-11-23T19:50:17.292274",
     "status": "completed"
    },
    "tags": []
   },
   "outputs": [],
   "source": [
    "# NOTE: this approach does NOT yield any good results\n",
    "\n",
    "\n",
    "# define evaluation procedure\n",
    "cv = RepeatedStratifiedKFold(n_splits=10, n_repeats=3, random_state=1)\n",
    "\n",
    "# define grid search\n",
    "# grid = GridSearchCV(estimator=model_2_hmtuned, param_grid=param_grid, n_jobs=-1, cv=cv, scoring='roc_auc')\n",
    "# # execute the grid search\n",
    "# grid_result = grid.fit(X_train_2,y_train_2)\n",
    "\n",
    "grid_result = RandomizedSearchCV(model_2, param_distributions=param_grid, n_iter=param_comb, scoring='roc_auc', n_jobs=4, cv=skf.split(X_train_2,y_train_2), verbose=3, random_state=1001 )\n",
    "\n",
    "grid_result.fit(X_train_2,y_train_2)\n",
    "\n",
    "# report the best configuration\n",
    "print(\"Best: %f using %s\" % (grid_result.best_score_, grid_result.best_params_))\n",
    "# report all configurations\n",
    "means = grid_result.cv_results_['mean_test_score']\n",
    "stds = grid_result.cv_results_['std_test_score']\n",
    "params = grid_result.cv_results_['params']\n",
    "for mean, stdev, param in zip(means, stds, params):\n",
    "    print(\"%f (%f) with: %r\" % (mean, stdev, param))"
   ]
  },
  {
   "cell_type": "code",
   "execution_count": null,
   "id": "4aec6ddf",
   "metadata": {
    "papermill": {
     "duration": 18.108928,
     "end_time": "2021-11-23T19:56:19.566929",
     "exception": false,
     "start_time": "2021-11-23T19:56:01.458001",
     "status": "completed"
    },
    "tags": []
   },
   "outputs": [],
   "source": [
    "# NOTE: this approach does NOT yield any good results\n",
    "\n",
    "\n",
    "scale_pos_weight = 9\n",
    "model_2_cw = XGBClassifier(n_estimators= 150, scale_pos_weight = scale_pos_weight, max_depth= 4, learning_rate= 0.2, subsample= 1.0, min_child_weight= 5, gamma= 5, colsample_bytree= 1.0)\n",
    " \n",
    "# fit the model with the training data\n",
    "model_2_cw.fit(X_train_2,y_train_2)"
   ]
  },
  {
   "cell_type": "code",
   "execution_count": null,
   "id": "a8185a9e",
   "metadata": {
    "papermill": {
     "duration": 0.34622,
     "end_time": "2021-11-23T19:56:19.984291",
     "exception": false,
     "start_time": "2021-11-23T19:56:19.638071",
     "status": "completed"
    },
    "tags": []
   },
   "outputs": [],
   "source": [
    "# NOTE: this approach does NOT yield any good results\n",
    "\n",
    "\n",
    "y_pred_proba_cw = model_2_cw.predict_proba(X_valid_2)[:,1]\n",
    "roc_auc =  roc_auc_score(y_valid_2,y_pred_proba_cw)\n",
    "y_pred_cw = model_2_cw.predict(X_valid_2)\n",
    "accuracy =  accuracy_score(y_valid_2, y_pred_cw)\n",
    "report = classification_report(y_valid_2, y_pred_cw, output_dict=True)\n"
   ]
  },
  {
   "cell_type": "code",
   "execution_count": null,
   "id": "659b893c",
   "metadata": {
    "papermill": {
     "duration": 0.080388,
     "end_time": "2021-11-23T19:56:20.136837",
     "exception": false,
     "start_time": "2021-11-23T19:56:20.056449",
     "status": "completed"
    },
    "tags": []
   },
   "outputs": [],
   "source": [
    "print(roc_auc, accuracy)\n",
    "report"
   ]
  },
  {
   "cell_type": "code",
   "execution_count": null,
   "id": "2efd4d5a",
   "metadata": {
    "papermill": {
     "duration": 0.094306,
     "end_time": "2021-11-23T19:56:20.301422",
     "exception": false,
     "start_time": "2021-11-23T19:56:20.207116",
     "status": "completed"
    },
    "tags": []
   },
   "outputs": [],
   "source": [
    "from collections import Counter\n",
    "\n",
    "# count examples in each class\n",
    "counter = Counter(y_pred_cw)\n",
    "print(counter[0] , counter[1])\n",
    "# estimate scale_pos_weight value\n",
    "# estimate = counter[0] / counter[1]\n",
    "# print('Estimate: %.3f' % estimate)"
   ]
  },
  {
   "cell_type": "markdown",
   "id": "14a6c429",
   "metadata": {
    "papermill": {
     "duration": 0.07038,
     "end_time": "2021-11-23T19:56:20.442290",
     "exception": false,
     "start_time": "2021-11-23T19:56:20.371910",
     "status": "completed"
    },
    "tags": []
   },
   "source": [
    "### Class weights"
   ]
  },
  {
   "cell_type": "code",
   "execution_count": null,
   "id": "91feef50",
   "metadata": {
    "papermill": {
     "duration": 0.152333,
     "end_time": "2021-11-23T19:56:20.665743",
     "exception": false,
     "start_time": "2021-11-23T19:56:20.513410",
     "status": "completed"
    },
    "tags": []
   },
   "outputs": [],
   "source": [
    "from sklearn.utils import class_weight\n",
    "\n",
    "# assigining class weight to balanced does NOT yield any good results/makes NO difference (#BLOG)\n",
    "\n",
    "classes_weights = class_weight.compute_sample_weight(\n",
    "    # this took manual tuning\n",
    "    class_weight={0:0.18, 1:0.82},\n",
    "    y=y_train_2\n",
    ")"
   ]
  },
  {
   "cell_type": "code",
   "execution_count": null,
   "id": "05db994b",
   "metadata": {
    "papermill": {
     "duration": 19.061145,
     "end_time": "2021-11-23T19:56:39.798142",
     "exception": false,
     "start_time": "2021-11-23T19:56:20.736997",
     "status": "completed"
    },
    "tags": []
   },
   "outputs": [],
   "source": [
    "model_2_cw = XGBClassifier(n_estimators= 150, max_depth= 4, learning_rate= 0.2, subsample= 1.0, min_child_weight= 5, gamma= 5, colsample_bytree= 1.0)\n",
    "\n",
    "model_2_cw.fit(X_train_2, y_train_2, sample_weight=classes_weights)"
   ]
  },
  {
   "cell_type": "code",
   "execution_count": null,
   "id": "7de38a32",
   "metadata": {
    "papermill": {
     "duration": 0.153324,
     "end_time": "2021-11-23T19:56:40.025553",
     "exception": false,
     "start_time": "2021-11-23T19:56:39.872229",
     "status": "completed"
    },
    "tags": []
   },
   "outputs": [],
   "source": [
    "y_pred_cw = model_2_cw.predict(X_valid_2)\n"
   ]
  },
  {
   "cell_type": "code",
   "execution_count": null,
   "id": "2177f98c",
   "metadata": {
    "papermill": {
     "duration": 0.095773,
     "end_time": "2021-11-23T19:56:40.196534",
     "exception": false,
     "start_time": "2021-11-23T19:56:40.100761",
     "status": "completed"
    },
    "tags": []
   },
   "outputs": [],
   "source": [
    "from collections import Counter\n",
    "# count examples in each class\n",
    "counter = Counter(y_pred_cw)\n",
    "print(counter[0] , counter[1])"
   ]
  },
  {
   "cell_type": "code",
   "execution_count": null,
   "id": "c61fc848",
   "metadata": {
    "papermill": {
     "duration": 0.080994,
     "end_time": "2021-11-23T19:56:40.349864",
     "exception": false,
     "start_time": "2021-11-23T19:56:40.268870",
     "status": "completed"
    },
    "tags": []
   },
   "outputs": [],
   "source": [
    "y_valid_2.value_counts()"
   ]
  },
  {
   "cell_type": "markdown",
   "id": "2eda504d",
   "metadata": {
    "papermill": {
     "duration": 0.071784,
     "end_time": "2021-11-23T19:56:40.493700",
     "exception": false,
     "start_time": "2021-11-23T19:56:40.421916",
     "status": "completed"
    },
    "tags": []
   },
   "source": [
    "### Evaluation - XGBoost post Class Weights (5.2)"
   ]
  },
  {
   "cell_type": "code",
   "execution_count": null,
   "id": "d46a5c80",
   "metadata": {
    "papermill": {
     "duration": 0.535064,
     "end_time": "2021-11-23T19:56:41.101132",
     "exception": false,
     "start_time": "2021-11-23T19:56:40.566068",
     "status": "completed"
    },
    "tags": []
   },
   "outputs": [],
   "source": [
    "y_pred_proba_cw = model_2_cw.predict_proba(X_valid_2)[:,1]\n",
    "roc_auc =  roc_auc_score(y_valid_2,y_pred_proba_cw)\n",
    "y_pred_cw = model_2_cw.predict(X_valid_2)\n",
    "accuracy =  accuracy_score(y_valid_2, y_pred_cw)\n",
    "report = classification_report(y_valid_2, y_pred_cw, output_dict=True)\n",
    "\n",
    "print(roc_auc, accuracy)\n",
    "report\n",
    "\n"
   ]
  },
  {
   "cell_type": "markdown",
   "id": "fe68e2b3",
   "metadata": {
    "papermill": {
     "duration": 0.121855,
     "end_time": "2021-11-23T19:56:41.346799",
     "exception": false,
     "start_time": "2021-11-23T19:56:41.224944",
     "status": "completed"
    },
    "tags": []
   },
   "source": [
    "# Feature Selection (5.3)"
   ]
  },
  {
   "cell_type": "code",
   "execution_count": null,
   "id": "81689d0e",
   "metadata": {
    "papermill": {
     "duration": 0.132529,
     "end_time": "2021-11-23T19:56:41.598180",
     "exception": false,
     "start_time": "2021-11-23T19:56:41.465651",
     "status": "completed"
    },
    "tags": []
   },
   "outputs": [],
   "source": [
    "y_valid_1.nunique()"
   ]
  },
  {
   "cell_type": "code",
   "execution_count": null,
   "id": "88d784e0",
   "metadata": {
    "papermill": {
     "duration": 29.938283,
     "end_time": "2021-11-23T19:57:11.655113",
     "exception": false,
     "start_time": "2021-11-23T19:56:41.716830",
     "status": "completed"
    },
    "tags": []
   },
   "outputs": [],
   "source": [
    "## To also visualize the importance of class weight and stratifying the data, \n",
    "# the difference between the feature importance graphs could be helpful(#BLOG)\n",
    "\n",
    "explainer_2 = shap.Explainer(model_2_cw)\n",
    "shap_values_2 = explainer_2(X_train_2)\n",
    "\n",
    "shap.summary_plot(shap_values_2, X_train_2)"
   ]
  },
  {
   "cell_type": "markdown",
   "id": "ddb5e2bd",
   "metadata": {
    "papermill": {
     "duration": 0.077099,
     "end_time": "2021-11-23T19:57:11.808524",
     "exception": false,
     "start_time": "2021-11-23T19:57:11.731425",
     "status": "completed"
    },
    "tags": []
   },
   "source": [
    "### Applying Recursive Feature Elimination"
   ]
  },
  {
   "cell_type": "code",
   "execution_count": null,
   "id": "6b4bb8a7",
   "metadata": {
    "papermill": {
     "duration": 94.108095,
     "end_time": "2021-11-23T19:58:46.002082",
     "exception": false,
     "start_time": "2021-11-23T19:57:11.893987",
     "status": "completed"
    },
    "tags": []
   },
   "outputs": [],
   "source": [
    "#adapted from https://machinelearningmastery.com/feature-importance-and-feature-selection-with-xgboost-in-python/\n",
    "# from numpy import sort\n",
    "from sklearn.feature_selection import SelectFromModel\n",
    "#\n",
    "thresholds = np.sort(model_2_cw.feature_importances_)\n",
    "for thresh in thresholds:\n",
    "    # select features using threshold\n",
    "    selection = SelectFromModel(model_2_cw, threshold=thresh, prefit=True)\n",
    "    select_X_train_2 = selection.transform(X_train_2)\n",
    "    # train model\n",
    "    selection_model = XGBClassifier(n_estimators= 150, max_depth= 4, learning_rate= 0.2, subsample= 1.0, min_child_weight= 5, gamma= 5, colsample_bytree= 1.0)\n",
    "    selection_model.fit(select_X_train_2, y_train_2, sample_weight=classes_weights)\n",
    "    # eval model\n",
    "    select_X_valid_2 = selection.transform(X_valid_2)\n",
    "    y_pred = selection_model.predict(select_X_valid_2)\n",
    "    predictions = [round(value) for value in y_pred]\n",
    "    accuracy = accuracy_score(y_valid_2, predictions)\n",
    "    print(\"Thresh=%.3f, n=%d, Accuracy: %.2f%%\" % (thresh, select_X_train_2.shape[1], accuracy*100.0))"
   ]
  },
  {
   "cell_type": "markdown",
   "id": "f0aa386e",
   "metadata": {
    "papermill": {
     "duration": 0.080241,
     "end_time": "2021-11-23T19:58:46.162868",
     "exception": false,
     "start_time": "2021-11-23T19:58:46.082627",
     "status": "completed"
    },
    "tags": []
   },
   "source": [
    "#### Thresh = 0.320 with 1 feature yields best accuracy, but this can result being highly biased towards the majority class, so we stick with n=7"
   ]
  },
  {
   "cell_type": "code",
   "execution_count": null,
   "id": "6dc6fdcc",
   "metadata": {
    "papermill": {
     "duration": 0.088624,
     "end_time": "2021-11-23T19:58:46.331006",
     "exception": false,
     "start_time": "2021-11-23T19:58:46.242382",
     "status": "completed"
    },
    "tags": []
   },
   "outputs": [],
   "source": [
    "model_2_cw.feature_importances_"
   ]
  },
  {
   "cell_type": "code",
   "execution_count": null,
   "id": "960deb3a",
   "metadata": {
    "papermill": {
     "duration": 5.974018,
     "end_time": "2021-11-23T19:58:52.388979",
     "exception": false,
     "start_time": "2021-11-23T19:58:46.414961",
     "status": "completed"
    },
    "tags": []
   },
   "outputs": [],
   "source": [
    "selection = SelectFromModel(model_2_cw, threshold=thresh, prefit=True)\n",
    "select_X_train_2 = selection.transform(X_train_2)\n",
    "    # train model\n",
    "selection_model = XGBClassifier()\n",
    "selection_model.fit(select_X_train_2, y_train_2, sample_weight=classes_weights)\n",
    "    # eval model"
   ]
  },
  {
   "cell_type": "markdown",
   "id": "bc2fd9ad",
   "metadata": {
    "papermill": {
     "duration": 0.080087,
     "end_time": "2021-11-23T19:58:53.527547",
     "exception": false,
     "start_time": "2021-11-23T19:58:53.447460",
     "status": "completed"
    },
    "tags": []
   },
   "source": [
    "# Experiment Tracking"
   ]
  },
  {
   "cell_type": "code",
   "execution_count": null,
   "id": "c1d14c64",
   "metadata": {
    "papermill": {
     "duration": 0.088235,
     "end_time": "2021-11-23T19:58:53.695922",
     "exception": false,
     "start_time": "2021-11-23T19:58:53.607687",
     "status": "completed"
    },
    "tags": []
   },
   "outputs": [],
   "source": [
    "# import comet_ml\n",
    "# import os\n",
    "\n",
    "# # Check to see if there is a key in environment:\n",
    "# EXPERIMENT_KEY = os.environ.get(\"COMET_API_KEY\", None)\n",
    "\n",
    "# # First, let's see if we continue or start fresh:\n",
    "# CONTINUE_RUN = False\n",
    "# if (EXPERIMENT_KEY is not None):\n",
    "#     # There is one, but the experiment might not exist yet:\n",
    "#     api = comet_ml.API() # Assumes API key is set in config/env\n",
    "#     try:\n",
    "#         api_experiment = api.get_experiment_by_id(EXPERIMENT_KEY)\n",
    "#     except Exception:\n",
    "#         api_experiment = None\n",
    "#     if api_experiment is not None:\n",
    "#         CONTINUE_RUN = True\n",
    "#         # We can get the last details logged here, if logged:\n",
    "#         step = int(api_experiment.get_parameters_summary(\"steps\")[\"valueCurrent\"])\n",
    "#         epoch = int(api_experiment.get_parameters_summary(\"epochs\")[\"valueCurrent\"])\n",
    "\n",
    "# if CONTINUE_RUN:\n",
    "#     # 1. Recreate the state of ML system before creating experiment\n",
    "#     # otherwise it could try to log params, graph, etc. again\n",
    "#     # ...\n",
    "#     # 2. Setup the existing experiment to carry on:\n",
    "#     experiment = comet_ml.ExistingExperiment(\n",
    "#         previous_experiment=EXPERIMENT_KEY,\n",
    "#         log_env_details=True, # to continue env logging\n",
    "#         log_env_gpu=True,     # to continue GPU logging\n",
    "#         log_env_cpu=True,     # to continue CPU logging\n",
    "#     )\n",
    "#     # Retrieved from above APIExperiment\n",
    "#     experiment.set_step(step)\n",
    "#     experiment.set_epoch(epoch)\n",
    "\n",
    "# else:\n",
    "#     # 1. Create the experiment first\n",
    "#     #    This will use the COMET_EXPERIMENT_KEY if defined in env.\n",
    "#     #    Otherwise, you could manually set it here. If you don't\n",
    "#     #    set COMET_EXPERIMENT_KEY, the experiment will get a\n",
    "#     #    random key!\n",
    "#     experiment = comet_ml.Experiment()\n",
    "#     # 2. Setup the state of the ML system"
   ]
  },
  {
   "cell_type": "code",
   "execution_count": null,
   "id": "32a714a7-9007-481c-bb0b-3fed9f84890d",
   "metadata": {},
   "outputs": [],
   "source": [
    "Experiment.end()"
   ]
  },
  {
   "cell_type": "code",
   "execution_count": null,
   "id": "5f61166d-5f2c-44ba-ba87-d37977110ac3",
   "metadata": {},
   "outputs": [],
   "source": []
  }
 ],
 "metadata": {
  "kernelspec": {
   "display_name": "Python 3",
   "language": "python",
   "name": "python3"
  },
  "language_info": {
   "codemirror_mode": {
    "name": "ipython",
    "version": 3
   },
   "file_extension": ".py",
   "mimetype": "text/x-python",
   "name": "python",
   "nbconvert_exporter": "python",
   "pygments_lexer": "ipython3",
   "version": "3.8.8"
  },
  "papermill": {
   "default_parameters": {},
   "duration": 1164.366405,
   "end_time": "2021-11-23T19:58:55.192420",
   "environment_variables": {},
   "exception": null,
   "input_path": "__notebook__.ipynb",
   "output_path": "__notebook__.ipynb",
   "parameters": {},
   "start_time": "2021-11-23T19:39:30.826015",
   "version": "2.3.3"
  }
 },
 "nbformat": 4,
 "nbformat_minor": 5
}
