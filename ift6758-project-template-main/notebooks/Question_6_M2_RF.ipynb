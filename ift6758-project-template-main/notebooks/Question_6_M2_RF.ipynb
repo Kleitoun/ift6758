{
 "cells": [
  {
   "cell_type": "code",
   "execution_count": 1,
   "id": "c5344222-d5b6-437b-9f35-d87fa7dfa23e",
   "metadata": {},
   "outputs": [],
   "source": [
    "from comet_ml import Experiment"
   ]
  },
  {
   "cell_type": "code",
   "execution_count": 2,
   "id": "3cc3206e-b2e0-4174-b448-c8376af4cca8",
   "metadata": {},
   "outputs": [],
   "source": [
    "import numpy as np \n",
    "import pandas as pd\n",
    "from sklearn.ensemble import RandomForestClassifier\n",
    "from sklearn.model_selection import GridSearchCV, train_test_split\n",
    "from sklearn.metrics import accuracy_score, roc_auc_score, classification_report, roc_curve, auc\n",
    "import shap\n",
    "import pickle\n",
    "\n",
    "import sys\n",
    "sys.path.append('../ift6758/visualizations/')\n",
    "\n",
    "from question_5_plots import *"
   ]
  },
  {
   "cell_type": "code",
   "execution_count": 3,
   "id": "dd9059a6-7bdb-4176-bb23-58358273c4b5",
   "metadata": {},
   "outputs": [],
   "source": [
    "df = pd.read_csv('final_df.csv')"
   ]
  },
  {
   "cell_type": "code",
   "execution_count": 4,
   "id": "a62e13a1-4393-4851-979e-fb8491baedee",
   "metadata": {},
   "outputs": [
    {
     "name": "stderr",
     "output_type": "stream",
     "text": [
      "COMET WARNING: As you are running in a Jupyter environment, you will need to call `experiment.end()` when finished to ensure all metrics and code are logged before exiting.\n",
      "COMET INFO: Experiment is live on comet.ml https://www.comet.ml/kleitoun/random-forest/7a877e900dde4ba0bd282c77f52d5141\n",
      "\n"
     ]
    }
   ],
   "source": [
    "experiment = Experiment(\n",
    "    api_key=os.environ.get('COMET_API_KEY'),\n",
    "    project_name=\"random-forest\",\n",
    "    workspace=\"kleitoun\"\n",
    ")"
   ]
  },
  {
   "cell_type": "markdown",
   "id": "59bdad9b-e149-47e9-89fa-a6062a5822bd",
   "metadata": {},
   "source": [
    "## Set the parameters and the proper dataset for the model"
   ]
  },
  {
   "cell_type": "code",
   "execution_count": 5,
   "id": "a0d8137f-ed67-4f9a-a8df-28a122665530",
   "metadata": {},
   "outputs": [],
   "source": [
    "model = RandomForestClassifier()\n",
    "param_grid = {'random_state':[1],\n",
    "             'n_estimators':[50,75,100,125,150],\n",
    "              'max_depth':[6,8,10,12,14,16]\n",
    "              }"
   ]
  },
  {
   "cell_type": "code",
   "execution_count": 6,
   "id": "0ae19279-0221-40f1-a2e5-38ee353b8436",
   "metadata": {},
   "outputs": [],
   "source": [
    "search = GridSearchCV(model,param_grid,scoring='balanced_accuracy',cv=5,refit=True,error_score='raise')"
   ]
  },
  {
   "cell_type": "code",
   "execution_count": 7,
   "id": "56e646c2-03c0-435d-8c84-166b325d067e",
   "metadata": {},
   "outputs": [],
   "source": [
    "# training (train+validation sets for model) and test tests creation\n",
    "\n",
    "df_train = df[df['season'] != 20192020]\n",
    "df_train = df[df['season_type'] == 'R']"
   ]
  },
  {
   "cell_type": "markdown",
   "id": "fc1f6819-441d-427b-be95-c427c9799f81",
   "metadata": {},
   "source": [
    "## Select the appropriate features"
   ]
  },
  {
   "cell_type": "code",
   "execution_count": 8,
   "id": "533fcf95-f983-4e96-bd4e-a77c893a1314",
   "metadata": {},
   "outputs": [
    {
     "name": "stdout",
     "output_type": "stream",
     "text": [
      "60\n"
     ]
    }
   ],
   "source": [
    "old_feat = ['game_id', 'season', 'season_type', 'event_id', 'home_team',\n",
    "       'away_team', 'home_team_side_1st_period', 'attacking_team',\n",
    "       'attacking_player', 'goalie', 'period', 'period_time', 'goal_ind',\n",
    "       'shot_ind', 'x_coordinates', 'y_coordinates', 'shot_type', 'empty_net',\n",
    "       'strength', 'gwg', 'previous_event_x_coordinates',\n",
    "       'previous_event_y_coordinates', 'previous_event_period_time',\n",
    "       'previous_event_type', 'previous_event_period', 'previous_attacking_team',\n",
    "       'attacking_team_side']\n",
    "\n",
    "df_feat = df.iloc[:,:60].columns.tolist()\n",
    "print(len(df_feat))\n",
    "#features extracted in question 4\n",
    "new_feat = [feat for feat in df_feat if feat not in old_feat]"
   ]
  },
  {
   "cell_type": "code",
   "execution_count": 9,
   "id": "14f734a4-f229-4b36-84f1-6d98e31b2cbf",
   "metadata": {},
   "outputs": [],
   "source": [
    "X = df_train[new_feat]\n",
    "y = df_train['goal_ind']\n",
    "X_train, X_valid, y_train, y_valid = train_test_split(X,y,test_size=0.15,random_state=10, stratify=y, shuffle = True)"
   ]
  },
  {
   "cell_type": "markdown",
   "id": "9db44f59-83ac-4ebb-998b-4d5247b36db2",
   "metadata": {},
   "source": [
    "## Search, using gridsearch, the best model parameters and. use them on the validation set"
   ]
  },
  {
   "cell_type": "code",
   "execution_count": null,
   "id": "15a663ea-d7ef-4b1e-9aea-e33c56447b6f",
   "metadata": {},
   "outputs": [
    {
     "name": "stderr",
     "output_type": "stream",
     "text": [
      "COMET ERROR: Failed to extract parameters from estimator\n"
     ]
    }
   ],
   "source": [
    "%%time\n",
    "\n",
    "fit = search.fit(X,y)"
   ]
  },
  {
   "cell_type": "code",
   "execution_count": null,
   "id": "056a5ea9-2590-4ccf-8979-5751683be945",
   "metadata": {},
   "outputs": [],
   "source": [
    "model = fit.best_estimator_\n",
    "print(fit.best_estimator_)"
   ]
  },
  {
   "cell_type": "markdown",
   "id": "58517358-8fb3-4cd7-be6b-98b2770a0f5e",
   "metadata": {},
   "source": [
    "## Store the model using pickle to avoid having to run it multiple times"
   ]
  },
  {
   "cell_type": "code",
   "execution_count": null,
   "id": "571ab94a-cf74-4ccd-99a2-9ddab04884b7",
   "metadata": {},
   "outputs": [],
   "source": [
    "pickle.dump(model, open(\"random_forest\", 'wb'))"
   ]
  },
  {
   "cell_type": "code",
   "execution_count": null,
   "id": "9f72f8f4-93db-4586-97e3-10ed68899abc",
   "metadata": {},
   "outputs": [],
   "source": [
    "experiment.log_model(name = \"RandomForest\", file_or_folder = \"random_forest\")"
   ]
  },
  {
   "cell_type": "code",
   "execution_count": null,
   "id": "5dad23cf-71cd-410b-a898-d75f65ef24fa",
   "metadata": {},
   "outputs": [],
   "source": [
    "# loaded_model = pickle.load(open(\"random_forest\", 'rb'))"
   ]
  },
  {
   "cell_type": "code",
   "execution_count": null,
   "id": "e822b3f9-a1bf-47e4-8333-918be0df0c54",
   "metadata": {},
   "outputs": [],
   "source": [
    "valid_preds = model.predict(X_valid)\n",
    "# valid_preds = loaded_model.predict(X_valid)\n",
    "accuracy = accuracy_score(y_valid,valid_preds)\n",
    "roc_auc =  roc_auc_score(y_valid,valid_preds)\n",
    "report = classification_report(y_valid, valid_preds, output_dict=True)\n",
    "metrics = {\n",
    "    \"roc_auc\": roc_auc,\n",
    "    \"accuracy\": accuracy,\n",
    "    \"classification report\": report\n",
    "}\n",
    "experiment.log_metrics(metrics)"
   ]
  },
  {
   "cell_type": "markdown",
   "id": "978b7f5b-2ece-441c-aadf-fe3ad2eb6b16",
   "metadata": {},
   "source": [
    "## Generate the appropriate plots"
   ]
  },
  {
   "cell_type": "code",
   "execution_count": null,
   "id": "79b105c0-55c4-47a0-b8b4-2edad4f8fb82",
   "metadata": {},
   "outputs": [],
   "source": [
    "question_no = 6\n",
    "perf_eval = Performance_Eval(model, 'Random Forest', X_train, y_train, X_valid, y_valid, question_no = question_no)\n",
    "# perf_eval = Performance_Eval(loaded_model,'Random Forest',X_train, y_train, X_valid, y_valid, question_no = question_no)\n",
    "roc = perf_eval.get_roc_auc_plot()\n",
    "experiment.log_figure(figure=roc,overwrite=False)\n",
    "gr = perf_eval.get_goal_rate_plot()\n",
    "experiment.log_figure(figure=gr,overwrite=False)\n",
    "cr = perf_eval.get_cum_rate_plot()\n",
    "experiment.log_figure(figure=cr,overwrite=False)\n",
    "cp = perf_eval.get_calibration_plot()\n",
    "experiment.log_figure(figure=cp,overwrite=False)"
   ]
  },
  {
   "cell_type": "code",
   "execution_count": null,
   "id": "b0267a03-06b7-4712-976c-bf2afce6ac48",
   "metadata": {},
   "outputs": [],
   "source": [
    "experiment.end()"
   ]
  }
 ],
 "metadata": {
  "kernelspec": {
   "display_name": "Python 3",
   "language": "python",
   "name": "python3"
  },
  "language_info": {
   "codemirror_mode": {
    "name": "ipython",
    "version": 3
   },
   "file_extension": ".py",
   "mimetype": "text/x-python",
   "name": "python",
   "nbconvert_exporter": "python",
   "pygments_lexer": "ipython3",
   "version": "3.8.8"
  }
 },
 "nbformat": 4,
 "nbformat_minor": 5
}
