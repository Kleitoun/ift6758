{
 "cells": [
  {
   "cell_type": "code",
   "execution_count": 1,
   "id": "260a98c5-fe08-4ef2-bc3d-fde47185cea2",
   "metadata": {},
   "outputs": [],
   "source": [
    "from comet_ml import Experiment"
   ]
  },
  {
   "cell_type": "code",
   "execution_count": 2,
   "id": "66eba4b4-b05a-4caf-b413-13cbdf90e3d8",
   "metadata": {},
   "outputs": [],
   "source": [
    "import numpy as np \n",
    "import shap\n",
    "import pickle\n",
    "import json\n",
    "import time\n",
    "import json\n",
    "import pandas as pd\n",
    "import torch\n",
    "import math\n",
    "import os\n",
    "import torch.nn as nn\n",
    "import torch.nn.functional as F\n",
    "from sklearn.ensemble import RandomForestClassifier\n",
    "from sklearn.metrics import accuracy_score, roc_auc_score, classification_report, roc_curve, auc\n",
    "from sklearn.model_selection import GridSearchCV, train_test_split, RandomizedSearchCV\n",
    "from sklearn.preprocessing import MinMaxScaler\n",
    "from sklearn.svm import SVC\n",
    "import matplotlib.pyplot as plt\n",
    "import sys\n",
    "sys.path.append('../ift6758/visualizations/')\n",
    "\n",
    "from question_5_plots import *"
   ]
  },
  {
   "cell_type": "code",
   "execution_count": 3,
   "id": "155cdcfa-2a8e-44df-9cc9-e0e1d9bd8608",
   "metadata": {},
   "outputs": [],
   "source": [
    "df = pd.read_csv('final_df.csv')"
   ]
  },
  {
   "cell_type": "code",
   "execution_count": 4,
   "id": "cdfe2f0b-af76-4d92-bd59-4e67e783ea5c",
   "metadata": {},
   "outputs": [],
   "source": [
    "df_test = df[df['season'] == 20192020]\n",
    "df_test = df[df['season_type'] == 'R']"
   ]
  },
  {
   "cell_type": "code",
   "execution_count": 5,
   "id": "4aacd38c-3c10-4e2f-9efe-fee8ef6405f9",
   "metadata": {},
   "outputs": [],
   "source": [
    "# xgb = pickle.load(open(\"random_forest\", 'rb'))\n",
    "# rf = pickle.load(open(\"random_forest\", 'rb'))\n",
    "log1 = pickle.load(open(\"LogisticRegression_Distance\", 'rb'))\n",
    "log2 = pickle.load(open(\"LogisticRegression_Angle\", 'rb'))\n",
    "log3 = pickle.load(open(\"LogisticRegression_Distance+Angle\", 'rb'))"
   ]
  },
  {
   "cell_type": "code",
   "execution_count": 6,
   "id": "06c53865-f68b-4bc3-918f-1fe88e721976",
   "metadata": {},
   "outputs": [],
   "source": [
    "old_feat = ['game_id', 'season', 'season_type', 'event_id', 'home_team',\n",
    "       'away_team', 'home_team_side_1st_period', 'attacking_team',\n",
    "       'attacking_player', 'goalie', 'period', 'period_time', 'goal_ind',\n",
    "       'shot_ind', 'x_coordinates', 'y_coordinates', 'shot_type', 'empty_net',\n",
    "       'strength', 'gwg', 'previous_event_x_coordinates',\n",
    "       'previous_event_y_coordinates', 'previous_event_period_time',\n",
    "       'previous_event_type', 'previous_event_period', 'previous_attacking_team',\n",
    "       'attacking_team_side']\n",
    "\n",
    "df_feat = df.iloc[:,:60].columns.tolist()\n",
    "\n",
    "#features extracted in question 4\n",
    "new_feat = [feat for feat in df_feat if feat not in old_feat]"
   ]
  },
  {
   "cell_type": "code",
   "execution_count": 7,
   "id": "cd099b1f-f691-46f0-8c04-03638f3ead31",
   "metadata": {},
   "outputs": [
    {
     "name": "stdout",
     "output_type": "stream",
     "text": [
      "[[34.53]\n",
      " [10.  ]\n",
      " [14.04]\n",
      " ...\n",
      " [24.02]\n",
      " [24.19]\n",
      " [19.1 ]]\n"
     ]
    }
   ],
   "source": [
    "X_rf = df_test[new_feat]\n",
    "X_lr_D = df_test['distance_from_net'].values.reshape(-1,1)\n",
    "X_lr_A = df_test['angle_from_net'].abs().values.reshape(-1,1)\n",
    "X_lr_DA = df_test[['distance_from_net','angle_from_net']]\n",
    "y = df_test['goal_ind']\n",
    "print(X_lr_D)"
   ]
  },
  {
   "cell_type": "code",
   "execution_count": 10,
   "id": "6c7338fc-9dd3-4096-a2d5-15be8318d886",
   "metadata": {},
   "outputs": [
    {
     "name": "stderr",
     "output_type": "stream",
     "text": [
      "The feature names should match those that were passed during fit. Starting version 1.2, an error will be raised.\n",
      "Feature names unseen at fit time:\n",
      "- shot_type_Wrist Shot\n",
      "Feature names seen at fit time, yet now missing:\n",
      "- Unnamed: 0\n",
      "\n",
      "X has feature names, but LogisticRegression was fitted without feature names\n"
     ]
    }
   ],
   "source": [
    "preds_rf = rf.predict(X_rf)\n",
    "# preds_lr_d = log1.predict(X_lr_D)\n",
    "# preds_lr_a = log2.predict(X_lr_A)\n",
    "preds_lr_da = log3.predict(X_lr_DA)"
   ]
  },
  {
   "cell_type": "code",
   "execution_count": null,
   "id": "8b5156ac-9f2c-4cdb-abf9-d5b18b8b7b92",
   "metadata": {},
   "outputs": [],
   "source": [
    "accuracy_rf = accuracy_score(y,preds_rf)\n",
    "roc_auc_rf =  roc_auc_score(y,preds_rf)\n",
    "report_rf = classification_report(y, preds_rf, output_dict=True)"
   ]
  },
  {
   "cell_type": "code",
   "execution_count": null,
   "id": "ade6d0df-5140-453f-ae9e-fe3da5926ff4",
   "metadata": {},
   "outputs": [],
   "source": [
    "question_no = 7\n",
    "# perf_eval = Performance_Eval(model, 'Random Forest', X_train, y_train, X_valid, y_valid, question_no = question_no)\n",
    "perf_eval = Performance_Eval(rf,'Random Forest',X_rf, preds_rf, X_rf, y, question_no = question_no)\n",
    "roc = perf_eval.get_roc_auc_plot()\n",
    "# experiment.log_figure(figure=roc,overwrite=False)\n",
    "gr = perf_eval.get_goal_rate_plot()\n",
    "# experiment.log_figure(figure=gr,overwrite=False)\n",
    "cr = perf_eval.get_cum_rate_plot()\n",
    "# experiment.log_figure(figure=cr,overwrite=False)\n",
    "cp = perf_eval.get_calibration_plot()\n",
    "# experiment.log_figure(figure=cp,overwrite=False)"
   ]
  },
  {
   "cell_type": "code",
   "execution_count": null,
   "id": "2ee70c9f-002a-4681-b67b-8e5365ae9fbb",
   "metadata": {},
   "outputs": [],
   "source": []
  }
 ],
 "metadata": {
  "kernelspec": {
   "display_name": "Python 3",
   "language": "python",
   "name": "python3"
  },
  "language_info": {
   "codemirror_mode": {
    "name": "ipython",
    "version": 3
   },
   "file_extension": ".py",
   "mimetype": "text/x-python",
   "name": "python",
   "nbconvert_exporter": "python",
   "pygments_lexer": "ipython3",
   "version": "3.8.8"
  }
 },
 "nbformat": 4,
 "nbformat_minor": 5
}
