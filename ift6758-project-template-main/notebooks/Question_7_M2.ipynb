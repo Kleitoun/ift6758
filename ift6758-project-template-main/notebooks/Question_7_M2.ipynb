{
 "cells": [
  {
   "cell_type": "code",
   "execution_count": 1,
   "id": "260a98c5-fe08-4ef2-bc3d-fde47185cea2",
   "metadata": {},
   "outputs": [],
   "source": [
    "from comet_ml import Experiment"
   ]
  },
  {
   "cell_type": "code",
   "execution_count": 2,
   "id": "66eba4b4-b05a-4caf-b413-13cbdf90e3d8",
   "metadata": {},
   "outputs": [],
   "source": [
    "import numpy as np \n",
    "import shap\n",
    "import pickle\n",
    "import json\n",
    "import time\n",
    "import json\n",
    "import pandas as pd\n",
    "import torch\n",
    "import math\n",
    "import os\n",
    "import torch.nn as nn\n",
    "import torch.nn.functional as F\n",
    "from sklearn.ensemble import RandomForestClassifier\n",
    "from sklearn.metrics import accuracy_score, roc_auc_score, classification_report, roc_curve, auc\n",
    "from sklearn.model_selection import GridSearchCV, train_test_split, RandomizedSearchCV\n",
    "from sklearn.preprocessing import MinMaxScaler, LabelEncoder\n",
    "from sklearn.svm import SVC\n",
    "import matplotlib.pyplot as plt"
   ]
  },
  {
   "cell_type": "code",
   "execution_count": 3,
   "id": "155cdcfa-2a8e-44df-9cc9-e0e1d9bd8608",
   "metadata": {},
   "outputs": [],
   "source": [
    "df = pd.read_csv('final_df.csv')"
   ]
  },
  {
   "cell_type": "code",
   "execution_count": 4,
   "id": "cdfe2f0b-af76-4d92-bd59-4e67e783ea5c",
   "metadata": {},
   "outputs": [],
   "source": [
    "df_test = df[df['season'] == 20192020]\n",
    "df_test_R = df_test[df_test['season_type'] == 'R']\n",
    "df_test_P = df_test[df_test['season_type'] == 'P']"
   ]
  },
  {
   "cell_type": "code",
   "execution_count": 5,
   "id": "4aacd38c-3c10-4e2f-9efe-fee8ef6405f9",
   "metadata": {},
   "outputs": [],
   "source": [
    "rf = pickle.load(open(\"random_forest\", 'rb'))\n",
    "xgb = pickle.load(open(\"XGBoost_hmtuning_model_v2.pickle\",'rb'))\n",
    "log1 = pickle.load(open(\"LogisticRegression_distance\", 'rb'))\n",
    "log2 = pickle.load(open(\"LogisticRegression_angle\", 'rb'))\n",
    "log3 = pickle.load(open(\"LogisticRegression_distance+angle\", 'rb'))"
   ]
  },
  {
   "cell_type": "markdown",
   "id": "09000739-e127-439c-8f0b-dc19d436e979",
   "metadata": {},
   "source": [
    "## Features for RF"
   ]
  },
  {
   "cell_type": "code",
   "execution_count": 6,
   "id": "06c53865-f68b-4bc3-918f-1fe88e721976",
   "metadata": {},
   "outputs": [],
   "source": [
    "old_feat = ['game_id', 'season', 'season_type', 'event_id', 'home_team',\n",
    "       'away_team', 'home_team_side_1st_period', 'attacking_team',\n",
    "       'attacking_player', 'goalie', 'period', 'period_time', 'goal_ind',\n",
    "       'shot_ind', 'x_coordinates', 'y_coordinates', 'shot_type', 'empty_net',\n",
    "       'strength', 'gwg', 'previous_event_x_coordinates',\n",
    "       'previous_event_y_coordinates', 'previous_event_period_time',\n",
    "       'previous_event_type', 'previous_event_period', 'previous_attacking_team',\n",
    "       'attacking_team_side']\n",
    "\n",
    "df_feat = df.iloc[:,:60].columns.tolist()\n",
    "\n",
    "RF_feat = [feat for feat in df_feat if feat not in old_feat]"
   ]
  },
  {
   "cell_type": "markdown",
   "id": "c6905233-f5ec-4c99-a9db-3357b2b7aa35",
   "metadata": {},
   "source": [
    "## Features for XGBoost"
   ]
  },
  {
   "cell_type": "code",
   "execution_count": 7,
   "id": "27f7ac1a-4e93-44c0-8165-0e7973bd792d",
   "metadata": {},
   "outputs": [],
   "source": [
    "feat_xgb = ['game_seconds', 'period', 'x_coordinates', 'y_coordinates',\n",
    "       'distance_from_net', 'angle_from_net', 'previous_event_type',\n",
    "       'previous_event_x_coordinates', 'previous_event_y_coordinates',\n",
    "       'time_since_last_event', 'distance_from_last_event', 'rebound',\n",
    "       'change_in_angle', 'speed', 'time_since_powerplay_started', '5v5',\n",
    "       '4v4', '3v3', '5v4', '5v3', '4v3', '4v5', '3v5', '3v4',\n",
    "       'shot_type_Backhand', 'shot_type_Deflected', 'shot_type_Slap Shot',\n",
    "       'shot_type_Snap Shot', 'shot_type_Tip-In', 'shot_type_Wrap-around',\n",
    "       'shot_type_Wrist Shot']\n",
    "\n",
    "def preprocess(df):\n",
    "    le = LabelEncoder()\n",
    "    df[\"previous_event_type\"] = le.fit_transform(df[\"previous_event_type\"])\n",
    "    \n",
    "    return df"
   ]
  },
  {
   "cell_type": "markdown",
   "id": "d07af360-51c3-4cdc-9e1c-d99fcf543894",
   "metadata": {},
   "source": [
    "## Assign the proper features to each model"
   ]
  },
  {
   "cell_type": "code",
   "execution_count": 8,
   "id": "cd099b1f-f691-46f0-8c04-03638f3ead31",
   "metadata": {},
   "outputs": [
    {
     "name": "stderr",
     "output_type": "stream",
     "text": [
      "\n",
      "A value is trying to be set on a copy of a slice from a DataFrame.\n",
      "Try using .loc[row_indexer,col_indexer] = value instead\n",
      "\n",
      "See the caveats in the documentation: https://pandas.pydata.org/pandas-docs/stable/user_guide/indexing.html#returning-a-view-versus-a-copy\n"
     ]
    }
   ],
   "source": [
    "X_rf = df_test_R[RF_feat]\n",
    "X_rf_P = df_test_P[RF_feat]\n",
    "X_xgb = preprocess(df_test_R[feat_xgb])\n",
    "X_xgb_P = preprocess(df_test_P[feat_xgb])\n",
    "X_lr_D = df_test_R['distance_from_net'].values.reshape(-1,1)\n",
    "X_lr_D_P = df_test_P['distance_from_net'].values.reshape(-1,1)\n",
    "X_lr_A = df_test_R['angle_from_net'].abs().values.reshape(-1,1)\n",
    "X_lr_A_P = df_test_P['angle_from_net'].abs().values.reshape(-1,1)\n",
    "X_lr_DA = df_test_R[['distance_from_net','angle_from_net']]\n",
    "X_lr_DA_P = df_test_P[['distance_from_net','angle_from_net']]\n",
    "y = df_test_R['goal_ind']\n",
    "y_P = df_test_P['goal_ind']"
   ]
  },
  {
   "cell_type": "markdown",
   "id": "fd98bd05-7d8f-4197-98ec-c14c984e0fe3",
   "metadata": {},
   "source": [
    "## Prediction for regular season "
   ]
  },
  {
   "cell_type": "code",
   "execution_count": null,
   "id": "6c7338fc-9dd3-4096-a2d5-15be8318d886",
   "metadata": {},
   "outputs": [
    {
     "name": "stderr",
     "output_type": "stream",
     "text": [
      "X has feature names, but LogisticRegression was fitted without feature names\n"
     ]
    }
   ],
   "source": [
    "preds_rf = rf.predict(X_rf)\n",
    "preds_xgb = xgb.predict(X_xgb)\n",
    "preds_lr_d = log1.predict(X_lr_D)\n",
    "preds_lr_a = log2.predict(X_lr_A)\n",
    "preds_lr_da = log3.predict(X_lr_DA)"
   ]
  },
  {
   "cell_type": "markdown",
   "id": "1e67a076-15ec-4691-b6ef-ad8864b107d7",
   "metadata": {},
   "source": [
    "## Accuracy and ROC for logistic regression models"
   ]
  },
  {
   "cell_type": "code",
   "execution_count": null,
   "id": "2b3646c0-0dba-4882-bd3e-1a4ecbcd97f0",
   "metadata": {},
   "outputs": [],
   "source": [
    "accuracy_lrd = accuracy_score(y,preds_lr_d)\n",
    "roc_auc_lrd =  roc_auc_score(y,preds_lr_d)\n",
    "accuracy_lra = accuracy_score(y,preds_lr_a)\n",
    "roc_auc_lra =  roc_auc_score(y,preds_lr_a)\n",
    "accuracy_lrda = accuracy_score(y,preds_lr_da)\n",
    "roc_auc_lrda =  roc_auc_score(y,preds_lr_da)"
   ]
  },
  {
   "cell_type": "markdown",
   "id": "7c041455-fe63-447c-a0bb-60862073f102",
   "metadata": {},
   "source": [
    "## Accuracy and ROC for Random Forest"
   ]
  },
  {
   "cell_type": "code",
   "execution_count": null,
   "id": "8b5156ac-9f2c-4cdb-abf9-d5b18b8b7b92",
   "metadata": {},
   "outputs": [],
   "source": [
    "accuracy_rf = accuracy_score(y,preds_rf)\n",
    "roc_auc_rf =  roc_auc_score(y,preds_rf)\n",
    "report_rf = classification_report(y, preds_rf, output_dict=True)"
   ]
  },
  {
   "cell_type": "markdown",
   "id": "e52f193e-1570-4804-a627-c40653ffc3c8",
   "metadata": {},
   "source": [
    "## Accuracy and ROC for XGBoost"
   ]
  },
  {
   "cell_type": "code",
   "execution_count": null,
   "id": "06bbb6a8-16ef-41b4-a501-baea4eceb944",
   "metadata": {},
   "outputs": [],
   "source": [
    "accuracy_xgb = accuracy_score(y,preds_xgb)\n",
    "roc_auc_xgb =  roc_auc_score(y,preds_xgb)\n",
    "report_xgb = classification_report(y, preds_xgb, output_dict=True)"
   ]
  },
  {
   "cell_type": "markdown",
   "id": "f6010aa4-5d3f-4dca-b598-9c817bc1427b",
   "metadata": {},
   "source": [
    "## Plots for regular season"
   ]
  },
  {
   "cell_type": "code",
   "execution_count": null,
   "id": "f4628ff8-c6c9-4651-9705-24bd8d9c87dc",
   "metadata": {},
   "outputs": [],
   "source": []
  },
  {
   "cell_type": "markdown",
   "id": "e5b5bd50-de56-4879-b4bb-45cfa6495b9c",
   "metadata": {},
   "source": [
    "## Predictions for playoffs"
   ]
  },
  {
   "cell_type": "code",
   "execution_count": null,
   "id": "91bc853d-1698-438d-a96b-37e1d15947f4",
   "metadata": {},
   "outputs": [
    {
     "ename": "AttributeError",
     "evalue": "'XGBClassifier' object has no attribute 'prodict'",
     "output_type": "error",
     "traceback": [
      "\u001b[0;31m---------------------------------------------------------------------------\u001b[0m",
      "\u001b[0;31mAttributeError\u001b[0m                            Traceback (most recent call last)",
      "\u001b[0;32m<ipython-input-13-ce09e1b65e8c>\u001b[0m in \u001b[0;36m<module>\u001b[0;34m\u001b[0m\n\u001b[1;32m      1\u001b[0m \u001b[0mpreds_rf_p\u001b[0m \u001b[0;34m=\u001b[0m \u001b[0mrf\u001b[0m\u001b[0;34m.\u001b[0m\u001b[0mpredict\u001b[0m\u001b[0;34m(\u001b[0m\u001b[0mX_rf_P\u001b[0m\u001b[0;34m)\u001b[0m\u001b[0;34m\u001b[0m\u001b[0;34m\u001b[0m\u001b[0m\n\u001b[0;32m----> 2\u001b[0;31m \u001b[0mpreds_xgb_p\u001b[0m \u001b[0;34m=\u001b[0m \u001b[0mxgb\u001b[0m\u001b[0;34m.\u001b[0m\u001b[0mprodict\u001b[0m\u001b[0;34m(\u001b[0m\u001b[0mX_xgb_P\u001b[0m\u001b[0;34m)\u001b[0m\u001b[0;34m\u001b[0m\u001b[0;34m\u001b[0m\u001b[0m\n\u001b[0m\u001b[1;32m      3\u001b[0m \u001b[0mpreds_lr_d_p\u001b[0m \u001b[0;34m=\u001b[0m \u001b[0mlog1\u001b[0m\u001b[0;34m.\u001b[0m\u001b[0mpredict\u001b[0m\u001b[0;34m(\u001b[0m\u001b[0mX_lr_D_P\u001b[0m\u001b[0;34m)\u001b[0m\u001b[0;34m\u001b[0m\u001b[0;34m\u001b[0m\u001b[0m\n\u001b[1;32m      4\u001b[0m \u001b[0mpreds_lr_a_p\u001b[0m \u001b[0;34m=\u001b[0m \u001b[0mlog2\u001b[0m\u001b[0;34m.\u001b[0m\u001b[0mpredict\u001b[0m\u001b[0;34m(\u001b[0m\u001b[0mX_lr_A_P\u001b[0m\u001b[0;34m)\u001b[0m\u001b[0;34m\u001b[0m\u001b[0;34m\u001b[0m\u001b[0m\n\u001b[1;32m      5\u001b[0m \u001b[0mpreds_lr_da_p\u001b[0m \u001b[0;34m=\u001b[0m \u001b[0mlog3\u001b[0m\u001b[0;34m.\u001b[0m\u001b[0mpredict\u001b[0m\u001b[0;34m(\u001b[0m\u001b[0mX_lr_DA_P\u001b[0m\u001b[0;34m)\u001b[0m\u001b[0;34m\u001b[0m\u001b[0;34m\u001b[0m\u001b[0m\n",
      "\u001b[0;31mAttributeError\u001b[0m: 'XGBClassifier' object has no attribute 'prodict'"
     ]
    }
   ],
   "source": [
    "preds_rf_p = rf.predict(X_rf_P)\n",
    "preds_xgb_p = xgb.predict(X_xgb_P)\n",
    "preds_lr_d_p = log1.predict(X_lr_D_P)\n",
    "preds_lr_a_p = log2.predict(X_lr_A_P)\n",
    "preds_lr_da_p = log3.predict(X_lr_DA_P)"
   ]
  },
  {
   "cell_type": "markdown",
   "id": "878fc98e-b0f6-45de-a93f-ea2fee96b0af",
   "metadata": {},
   "source": [
    "## Accuracy and ROC for logistic regression models - playoffs"
   ]
  },
  {
   "cell_type": "code",
   "execution_count": null,
   "id": "738811fc-11fa-4d15-bf47-1027b74b4b3e",
   "metadata": {},
   "outputs": [],
   "source": [
    "accuracy_lrd_p = accuracy_score(y_P,preds_lr_d_p)\n",
    "roc_auc_lrd_p =  roc_auc_score(y_P,preds_lr_d_p)\n",
    "accuracy_lra_p = accuracy_score(y_P,preds_lr_a_p)\n",
    "roc_auc_lra_p =  roc_auc_score(y_P,preds_lr_a_p)\n",
    "accuracy_lrda_p = accuracy_score(y_P,preds_lr_da_p)\n",
    "roc_auc_lrda_p =  roc_auc_score(y_P,preds_lr_da_p)"
   ]
  },
  {
   "cell_type": "markdown",
   "id": "4e9af0cf-1c40-45fe-a827-9a73ae412959",
   "metadata": {},
   "source": [
    "## Accuracy and ROC for Random Forest - playoffs"
   ]
  },
  {
   "cell_type": "code",
   "execution_count": null,
   "id": "2ee70c9f-002a-4681-b67b-8e5365ae9fbb",
   "metadata": {},
   "outputs": [],
   "source": [
    "accuracy_rf_p = accuracy_score(y_P,preds_rf_p)\n",
    "roc_auc_rf_p =  roc_auc_score(y_P,preds_rf_p)\n",
    "report_rf_p = classification_report(y_P, preds_rf_p, output_dict=True)"
   ]
  },
  {
   "cell_type": "markdown",
   "id": "da883916-92e2-4ed3-802a-ae6bb354c988",
   "metadata": {},
   "source": [
    "## Accuracy and ROC for XGBoost - playoffs"
   ]
  },
  {
   "cell_type": "code",
   "execution_count": null,
   "id": "dcae91ba-3962-4941-818b-49e44383f02d",
   "metadata": {},
   "outputs": [],
   "source": [
    "accuracy_xgb_p = accuracy_score(y_P,preds_xgb_p)\n",
    "roc_auc_xgb_p =  roc_auc_score(y_P,preds_xgb_p)\n",
    "report_xgb_p = classification_report(y_P, preds_xgb_p, output_dict=True)"
   ]
  },
  {
   "cell_type": "markdown",
   "id": "7beb25a0-5572-49e7-930f-8e2ddb9fc787",
   "metadata": {},
   "source": [
    "## Plots for playoffs "
   ]
  },
  {
   "cell_type": "code",
   "execution_count": null,
   "id": "7f5eb902-bd37-4e71-8757-3ef55c4ca771",
   "metadata": {},
   "outputs": [],
   "source": []
  }
 ],
 "metadata": {
  "kernelspec": {
   "display_name": "Python 3",
   "language": "python",
   "name": "python3"
  },
  "language_info": {
   "codemirror_mode": {
    "name": "ipython",
    "version": 3
   },
   "file_extension": ".py",
   "mimetype": "text/x-python",
   "name": "python",
   "nbconvert_exporter": "python",
   "pygments_lexer": "ipython3",
   "version": "3.8.8"
  }
 },
 "nbformat": 4,
 "nbformat_minor": 5
}
